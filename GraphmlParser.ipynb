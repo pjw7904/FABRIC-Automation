{
 "cells": [
  {
   "cell_type": "markdown",
   "id": "3f6e805a-b424-467c-9804-515fc791787e",
   "metadata": {
    "tags": []
   },
   "source": [
    "# Slice Builder: GraphML Parsing"
   ]
  },
  {
   "cell_type": "markdown",
   "id": "3da7fb36-03a4-4fc4-800f-86696114eaec",
   "metadata": {},
   "source": [
    "## Pick a Slice Name, Site to Work on, and the GraphML File to Parse"
   ]
  },
  {
   "cell_type": "code",
   "execution_count": null,
   "id": "3032a7d9-c55a-4b71-84f2-0fc9fc3a9704",
   "metadata": {},
   "outputs": [],
   "source": [
    "# Constants to change as needed\n",
    "SLICE_NAME = \"Clos\"\n",
    "SITE_NAME = \"MASS\"\n",
    "GRAPH_PATH = \"graphs/2tier_test.graphml\""
   ]
  },
  {
   "cell_type": "markdown",
   "id": "643785f2-1fb9-4d90-bafe-068a7ffafc6b",
   "metadata": {
    "tags": []
   },
   "source": [
    "## Import the FABlib Library"
   ]
  },
  {
   "cell_type": "code",
   "execution_count": null,
   "id": "05dbe97f-3a25-46d3-9b6b-e3607c31a35f",
   "metadata": {
    "tags": []
   },
   "outputs": [],
   "source": [
    "from fabrictestbed_extensions.fablib.fablib import FablibManager as fablib_manager\n",
    "\n",
    "try: \n",
    "    fablib = fablib_manager()\n",
    "                     \n",
    "    fablib.show_config()\n",
    "except Exception as e:\n",
    "    print(f\"Exception: {e}\")"
   ]
  },
  {
   "cell_type": "markdown",
   "id": "33c4a369-6e10-4f8a-9f5e-422a6f882af0",
   "metadata": {},
   "source": [
    "## Parse GraphML for Topology and Create Slice"
   ]
  },
  {
   "cell_type": "code",
   "execution_count": null,
   "id": "03578fea-42a1-4428-991d-d6cf17f7f2f8",
   "metadata": {},
   "outputs": [],
   "source": [
    "import xml.dom.minidom\n",
    "from collections import Counter\n",
    "\n",
    "try:        \n",
    "    #Create the slice\n",
    "    slice = fablib.new_slice(name=SLICE_NAME)\n",
    "    \n",
    "    # Create dictionary to store nodes\n",
    "    nodeDict = {}\n",
    "    \n",
    "    # Use XML parser to parse the GraphML file\n",
    "    docs = xml.dom.minidom.parse(GRAPH_PATH)\n",
    "\n",
    "    # Find all nodes via the node tag, add each to the slice with Rocky Linux as its base\n",
    "    nodes = docs.getElementsByTagName(\"node\")\n",
    "    for node in nodes:\n",
    "        nodeName = node.getAttribute(\"id\")\n",
    "        nodeInfo = slice.add_node(name=nodeName, cores=1, ram=4, image='default_rocky_8', site=SITE_NAME)\n",
    "        nodeDict[nodeName] = [nodeInfo, 1]\n",
    "        \n",
    "        print(f'Added node {nodeName}')\n",
    "    \n",
    "    # Find all edges via the edge tag, add each to the slice via an L2Bridge connecting the node interfaces\n",
    "    edges = docs.getElementsByTagName(\"edge\")\n",
    "    for edge in edges:\n",
    "        source = edge.getAttribute(\"source\")\n",
    "        target = edge.getAttribute(\"target\")\n",
    "        \n",
    "        sourceIntfName = \"{node}_eth{num}\".format(node=source, num=nodeDict[source][1])\n",
    "        targetIntfName = \"{node}_eth{num}\".format(node=target, num=nodeDict[target][1])\n",
    "        networkName = f'link_{source}_{target}'\n",
    "        \n",
    "        # Add a NIC for each node that is a part of the edge\n",
    "        sourceIntf = nodeDict[source][0].add_component(model='NIC_Basic', name=sourceIntfName).get_interfaces()[0]\n",
    "        targetIntf = nodeDict[target][0].add_component(model='NIC_Basic', name=targetIntfName).get_interfaces()[0]\n",
    "        \n",
    "        nodeDict[source][1] += 1\n",
    "        nodeDict[target][1] += 1\n",
    "\n",
    "        # Add a L2 network between the interfaces\n",
    "        slice.add_l2network(name=networkName, interfaces=[sourceIntf, targetIntf], type=\"L2Bridge\")\n",
    "        \n",
    "        print(f'Added edge {source}-{target}')\n",
    "\n",
    "     \n",
    "    #Submit Slice Request\n",
    "    slice.submit()\n",
    "\n",
    "except Exception as e:\n",
    "    print(f\"Exception: {e}\")"
   ]
  },
  {
   "cell_type": "code",
   "execution_count": null,
   "id": "4bb38612-5acb-4589-98cc-8fb5ad8822a8",
   "metadata": {},
   "outputs": [],
   "source": []
  }
 ],
 "metadata": {
  "kernelspec": {
   "display_name": "Python 3 (ipykernel)",
   "language": "python",
   "name": "python3"
  },
  "language_info": {
   "codemirror_mode": {
    "name": "ipython",
    "version": 3
   },
   "file_extension": ".py",
   "mimetype": "text/x-python",
   "name": "python",
   "nbconvert_exporter": "python",
   "pygments_lexer": "ipython3",
   "version": "3.9.7"
  }
 },
 "nbformat": 4,
 "nbformat_minor": 5
}
