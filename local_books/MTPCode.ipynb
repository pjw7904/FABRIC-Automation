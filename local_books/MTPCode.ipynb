{
 "cells": [
  {
   "cell_type": "markdown",
   "id": "3f6e805a-b424-467c-9804-515fc791787e",
   "metadata": {
    "tags": []
   },
   "source": [
    "# Prepare Code to be Run on MTP Nodes"
   ]
  },
  {
   "cell_type": "markdown",
   "id": "afde3953-6a77-4959-b953-fda62daf9a75",
   "metadata": {},
   "source": [
    "## Input Required Information"
   ]
  },
  {
   "cell_type": "code",
   "execution_count": null,
   "id": "1f37ce88-0f0d-431b-8506-946f5dbf09a5",
   "metadata": {},
   "outputs": [],
   "source": [
    "SLICE_NAME = \"Clos\"\n",
    "CONFIG_FILE = \"node_config.json\"\n",
    "CODE_DIR = \"/home/fabric/work/custom/CMTP/SRC\""
   ]
  },
  {
   "cell_type": "markdown",
   "id": "3be33fec-20fd-4a94-8953-a090e6f48cba",
   "metadata": {
    "tags": []
   },
   "source": [
    "## Access the Slice\n",
    "\n",
    "The orchestrator class is initalized, which also means the slice and its nodes are now accessable as well."
   ]
  },
  {
   "cell_type": "code",
   "execution_count": null,
   "id": "d2e26f90-77a5-48c5-87ad-76c778c4a0f5",
   "metadata": {},
   "outputs": [],
   "source": [
    "from FabUtils import FabOrchestrator\n",
    "\n",
    "try:\n",
    "    manager = FabOrchestrator(SLICE_NAME)\n",
    "    \n",
    "except Exception as e:\n",
    "    print(f\"Exception: {e}\")"
   ]
  },
  {
   "cell_type": "markdown",
   "id": "170b0a46-482a-40db-8cc4-d73e81595845",
   "metadata": {},
   "source": [
    "## Upload the Source Code\n",
    "\n",
    "MAKE SURE THAT YOU UPDATE mtp_dcn.conf BECAUSE IT GETS OVERWRITTEN AND THEN SEG FAULTS"
   ]
  },
  {
   "cell_type": "code",
   "execution_count": null,
   "id": "780a516b-f0b8-4d6b-bfdf-9dcdb5c4eab9",
   "metadata": {},
   "outputs": [],
   "source": [
    "manager.uploadDirectoryParallel(CODE_DIR, prefixList=\"L,S\")"
   ]
  },
  {
   "cell_type": "markdown",
   "id": "2ba688f6-14d1-4338-85ce-750b6874b88c",
   "metadata": {},
   "source": [
    "## Compile the Code"
   ]
  },
  {
   "cell_type": "code",
   "execution_count": null,
   "id": "fc75e45c-f400-4d0d-848b-5a800019c259",
   "metadata": {},
   "outputs": [],
   "source": [
    "compileCmd = \"cd ~/SRC ; gcc main.c mtp_build.c mtp_send.c mtp_struct.c mtp_utils.c -o MTPstart\"\n",
    "manager.executeCommandsParallel(compileCmd, prefixList=\"L,S\")"
   ]
  },
  {
   "cell_type": "markdown",
   "id": "2494ce23-843d-433d-93c1-b7fe805ea59d",
   "metadata": {},
   "source": [
    "## Configure Nodes Based on Their folded-Clos Tier and Role\n",
    "\n",
    "This is where the difference between a leaf, spine, and a top-tier spine becomes important, as each has different configuration needs that cannot be swapped or ignored."
   ]
  },
  {
   "cell_type": "code",
   "execution_count": null,
   "id": "643e3a9a-b065-4774-a8c4-e80ea510d792",
   "metadata": {},
   "outputs": [],
   "source": [
    "import json\n",
    "import time\n",
    "\n",
    "def get_node_tiers(data):\n",
    "    node_tier_list = []\n",
    "\n",
    "    queue = [data['topology']]\n",
    "    \n",
    "    while len(queue) != 0:\n",
    "        temp_list = []\n",
    "        while len(queue) != 0:\n",
    "            temp_list.append(queue.pop(0))\n",
    "\n",
    "        tot = []\n",
    "        for pod in temp_list:\n",
    "            for spine in pod['topSpines']:\n",
    "                tot.append(spine)\n",
    "        \n",
    "        node_tier_list.append(tot)\n",
    "            \n",
    "        for pod in temp_list:\n",
    "            if \"pods\" in pod:\n",
    "                for pod_t in pod[\"pods\"]:\n",
    "                    queue.append(pod_t)\n",
    "    \n",
    "    node_tier_list.append(data['topology']['leaves'])\n",
    "\n",
    "    return node_tier_list\n",
    "\n",
    "# Open the configuration file and read it\n",
    "f = open(\"node_config.json\")\n",
    "data = json.load(f)\n",
    "f.close()\n",
    "\n",
    "# Get the information\n",
    "node_tier_list = get_node_tiers(data)\n",
    "\n",
    "# Get start time info\n",
    "start_hello_time = round(time.time()*1000) + 3 * 60 * 1000\n",
    "\n",
    "for i in range(len(node_tier_list)):\n",
    "    for currentRemoteNode in node_tier_list[i]:\n",
    "        print(f\"Configuring {currentRemoteNode}\")\n",
    "        \n",
    "        # If it is a leaf\n",
    "        if i == len(node_tier_list) - 1:\n",
    "            isTor = \"true\"\n",
    "            isTopSpine = \"false\"\n",
    "            tier = 1\n",
    "            torEthPortName = data['topology']['leavesNetworkPortDict'][currentRemoteNode]\n",
    "        \n",
    "        # If it is a spine\n",
    "        else:\n",
    "            isTor = \"false\"\n",
    "            tier = len(node_tier_list) - i\n",
    "            torEthPortName = \"0\"\n",
    "            \n",
    "            # If is a top-tier spine\n",
    "            if i == 0:\n",
    "                isTopSpine = \"true\"\n",
    "            \n",
    "            # If it is not a top-tier spine\n",
    "            else:\n",
    "                isTopSpine = \"false\"\n",
    "                \n",
    "        configCmd = f\"cd ~/SRC; sudo bash config_generator.sh {isTor} {isTopSpine} {tier} {start_hello_time} {torEthPortName}\"\n",
    "        \n",
    "        # Execute the script remotely\n",
    "        manager.executeCommandsParallel(configCmd, prefixList=currentRemoteNode)"
   ]
  },
  {
   "cell_type": "code",
   "execution_count": null,
   "id": "037f0639-a84f-4291-81e6-2ad5fff20be4",
   "metadata": {},
   "outputs": [],
   "source": []
  }
 ],
 "metadata": {
  "kernelspec": {
   "display_name": "Python 3 (ipykernel)",
   "language": "python",
   "name": "python3"
  },
  "language_info": {
   "codemirror_mode": {
    "name": "ipython",
    "version": 3
   },
   "file_extension": ".py",
   "mimetype": "text/x-python",
   "name": "python",
   "nbconvert_exporter": "python",
   "pygments_lexer": "ipython3",
   "version": "3.9.7"
  }
 },
 "nbformat": 4,
 "nbformat_minor": 5
}
