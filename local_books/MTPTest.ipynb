{
 "cells": [
  {
   "cell_type": "markdown",
   "id": "3f6e805a-b424-467c-9804-515fc791787e",
   "metadata": {
    "tags": []
   },
   "source": [
    "# Run MTP on FABRIC Nodes\n",
    "\n",
    "**A problem to solve**: The timing info is already done prior, so you would need to run this right away. Probably best to move that here instead once it's all ready."
   ]
  },
  {
   "cell_type": "markdown",
   "id": "afde3953-6a77-4959-b953-fda62daf9a75",
   "metadata": {},
   "source": [
    "## Input Required Information"
   ]
  },
  {
   "cell_type": "code",
   "execution_count": 1,
   "id": "1f37ce88-0f0d-431b-8506-946f5dbf09a5",
   "metadata": {},
   "outputs": [],
   "source": [
    "SLICE_NAME = \"Clos\"\n",
    "NODE_TO_FAIL = \"L1\"\n",
    "INTF_TO_FAIL = \"eth1\""
   ]
  },
  {
   "cell_type": "markdown",
   "id": "3be33fec-20fd-4a94-8953-a090e6f48cba",
   "metadata": {
    "tags": []
   },
   "source": [
    "## Access the Slice\n",
    "\n",
    "The orchestrator class is initalized, which also means the slice and its nodes are now accessable as well."
   ]
  },
  {
   "cell_type": "code",
   "execution_count": null,
   "id": "d2e26f90-77a5-48c5-87ad-76c778c4a0f5",
   "metadata": {},
   "outputs": [],
   "source": [
    "from FabUtils import FabOrchestrator\n",
    "\n",
    "try:\n",
    "    manager = FabOrchestrator(SLICE_NAME)\n",
    "    \n",
    "except Exception as e:\n",
    "    print(f\"Exception: {e}\")"
   ]
  },
  {
   "cell_type": "markdown",
   "id": "b82a34ea-619d-42c8-be27-c4b2c0aff72b",
   "metadata": {
    "tags": []
   },
   "source": [
    "## Delete the Log from a Prior Test if Necessary"
   ]
  },
  {
   "cell_type": "code",
   "execution_count": null,
   "id": "a0595a52-5986-475e-b77f-0a8d31e723a1",
   "metadata": {},
   "outputs": [],
   "source": [
    "rmLogCmd = \"rm MTP_*.log\"\n",
    "manager.executeCommandsParallel(rmLogCmd, prefixList=\"L,S\")"
   ]
  },
  {
   "cell_type": "markdown",
   "id": "06c90a8a-8179-4fa4-ad26-a6d44a45d8b8",
   "metadata": {},
   "source": [
    "## Start MTP on Each Node\n",
    "\n",
    "Delay by a bit to get everything working first."
   ]
  },
  {
   "cell_type": "code",
   "execution_count": null,
   "id": "12931b9a-a585-4056-9f51-7f5461b2236b",
   "metadata": {},
   "outputs": [],
   "source": [
    "import time\n",
    "\n",
    "startHelloTime = round(time.time()*1000) + 3 * 60 * 1000\n",
    "\n",
    "startCmd = f\"tmux new-session -d -s mtp 'cd ~/SRC; sudo ./MTPstart -t {startHelloTime}'\"\n",
    "\n",
    "# First on Spines\n",
    "manager.executeCommandsParallel(startCmd, prefixList=\"S\")\n",
    "\n",
    "# Wait a bit\n",
    "time.sleep(5)\n",
    "\n",
    "# Then on Leaves\n",
    "manager.executeCommandsParallel(startCmd, prefixList=\"L\")\n",
    "\n",
    "# Wait a bit\n",
    "time.sleep(5)\n",
    "\n",
    "# Check the output\n",
    "manager.executeCommandsParallel(\"cat MTP_*\" , prefixList=\"L,S\")"
   ]
  },
  {
   "cell_type": "markdown",
   "id": "e51def87-00a4-4584-8f5d-160b9f27dc29",
   "metadata": {},
   "source": [
    "## Stop MTP on Each Node"
   ]
  },
  {
   "cell_type": "code",
   "execution_count": null,
   "id": "9906a311-e1c6-4041-b39f-bf0a42770862",
   "metadata": {
    "tags": []
   },
   "outputs": [],
   "source": [
    "stopCmd = \"tmux kill-session -t mtp\"\n",
    "manager.executeCommandsParallel(stopCmd, prefixList=\"L,S\")"
   ]
  }
 ],
 "metadata": {
  "kernelspec": {
   "display_name": "Python 3 (ipykernel)",
   "language": "python",
   "name": "python3"
  },
  "language_info": {
   "codemirror_mode": {
    "name": "ipython",
    "version": 3
   },
   "file_extension": ".py",
   "mimetype": "text/x-python",
   "name": "python",
   "nbconvert_exporter": "python",
   "pygments_lexer": "ipython3",
   "version": "3.9.7"
  }
 },
 "nbformat": 4,
 "nbformat_minor": 5
}
