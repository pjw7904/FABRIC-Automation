{
 "cells": [
  {
   "cell_type": "markdown",
   "id": "3f6e805a-b424-467c-9804-515fc791787e",
   "metadata": {},
   "source": [
    "# Analyze MTP Log Results"
   ]
  },
  {
   "cell_type": "markdown",
   "id": "afde3953-6a77-4959-b953-fda62daf9a75",
   "metadata": {},
   "source": [
    "## Input Required Information\n",
    "\n",
    "| Variable | Use |\n",
    "| --- | --- |\n",
    "| LOG_DIR_PATH | Location of the log directory. | "
   ]
  },
  {
   "cell_type": "code",
   "execution_count": null,
   "id": "1f37ce88-0f0d-431b-8506-946f5dbf09a5",
   "metadata": {},
   "outputs": [],
   "source": [
    "LOG_DIR_PATH = \"/home/fabric/work/custom/FABRIC-Automation/logs/mtp_logs\"\n",
    "END_TIME = 1714158888103\n",
    "import os # Used to iterate over log directory"
   ]
  },
  {
   "cell_type": "markdown",
   "id": "3be33fec-20fd-4a94-8953-a090e6f48cba",
   "metadata": {},
   "source": [
    "## **Control Overhead**"
   ]
  },
  {
   "cell_type": "code",
   "execution_count": null,
   "id": "60450011-fe38-4148-9dd3-e3e2133cb41f",
   "metadata": {},
   "outputs": [],
   "source": [
    "def control_overhead_helper(file_name):\n",
    "    f = open(file_name,\"r\")\n",
    "   \n",
    "    line = f.readline()\n",
    "    size = 0\n",
    "\n",
    "    while line:\n",
    "        if \"FAILURE UPDATE message received\" in line:\n",
    "            time = int(line.split(\" \")[6].replace(\",\",\"\"))\n",
    "            line = f.readline()\n",
    "            size += int(line.split(\"=\")[1]) if time < END_TIME else 0\n",
    "\n",
    "        line = f.readline()   \n",
    "    \n",
    "    f.close()\n",
    "\n",
    "    return size\n",
    "\n",
    "# Default starting value for the number of bytes\n",
    "total_size = 0\n",
    "\n",
    "files = os.listdir(LOG_DIR_PATH)\n",
    "for file in files:\n",
    "    if(\"MTP\" in file):\n",
    "        filePath = os.path.join(LOG_DIR_PATH, file)\n",
    "\n",
    "        if os.path.getsize(filePath) > 0:\n",
    "            total_size += control_overhead_helper(filePath)\n",
    "\n",
    "print(f\"Control overhead (byte) = {total_size}\")"
   ]
  },
  {
   "cell_type": "markdown",
   "id": "81c033ce-3e24-49c7-8433-4dc2de8f3237",
   "metadata": {},
   "source": [
    "## **Convergence Timing**"
   ]
  },
  {
   "cell_type": "code",
   "execution_count": null,
   "id": "eff6dde5-e71d-4ef3-bbfa-8c71139d4dba",
   "metadata": {},
   "outputs": [],
   "source": [
    "def convergent_time_helper(file_name):\n",
    "    f = open(file_name,\"r\")\n",
    "\n",
    "    line = f.readline()\n",
    "\n",
    "    while line:\n",
    "        token = line.split(\" \")\n",
    "        \n",
    "        if \"Detected a failure\" in line:            \n",
    "            return 0,int(token[len(token)-1])\n",
    "        \n",
    "        elif \"FAILURE UPDATE message received\" in line:\n",
    "            time = int(token[6].replace(\",\",\"\"))\n",
    "\n",
    "            if(time < END_TIME):\n",
    "                return 1,int(time)\n",
    "        \n",
    "        line = f.readline()\n",
    "        \n",
    "    return -1,-1\n",
    "\n",
    "# Default starting values for the timing range\n",
    "begin_time = -1\n",
    "end_time = -1\n",
    "\n",
    "files = os.listdir(LOG_DIR_PATH)\n",
    "for file in files:\n",
    "    if(\"MTP\" in file):\n",
    "        filePath = os.path.join(LOG_DIR_PATH, file)\n",
    "\n",
    "        if os.path.getsize(filePath) > 0:\n",
    "            type, value = convergent_time_helper(filePath)\n",
    "\n",
    "            if type == 0:\n",
    "                if(begin_time > 0):\n",
    "                    raise Exception(\"Multiple begin times, please check log\")\n",
    "                begin_time = value\n",
    "\n",
    "            else:\n",
    "                end_time = max(end_time,value)\n",
    "\n",
    "convergenceTime = end_time - begin_time\n",
    "print(f\"End time = {end_time}\\nBegin time = {begin_time}\")\n",
    "print(f\"Convergent time (ms) = {convergenceTime}\")"
   ]
  },
  {
   "cell_type": "markdown",
   "id": "80de2d7a-21fc-496a-b016-b8d94033ef62",
   "metadata": {},
   "source": [
    "## **Churn Rate (Number of Changes)**"
   ]
  },
  {
   "cell_type": "code",
   "execution_count": null,
   "id": "94c25eff-6da4-4d18-846b-42203fd0ffd1",
   "metadata": {},
   "outputs": [],
   "source": [
    "def number_of_change_helper(file_name):\n",
    "    f = open(file_name,\"r\")\n",
    "\n",
    "    line = f.readline()\n",
    "\n",
    "    while line:\n",
    "        if (\"Detected a failure\" in line):\n",
    "            time = int(line.split(\" \")[9])\n",
    "            if(time < END_TIME):\n",
    "                return 1\n",
    "\n",
    "        elif(\"FAILURE UPDATE message received\" in line):\n",
    "            time = int(line.split(\" \")[6].replace(\",\",\"\"))\n",
    "            if(time < END_TIME):\n",
    "                return 1\n",
    "        \n",
    "        line = f.readline()\n",
    "    \n",
    "    return 0\n",
    "\n",
    "# Default starting value for the number of changes that occur\n",
    "change_count = 0\n",
    "\n",
    "files = os.listdir(LOG_DIR_PATH)\n",
    "for file in files:\n",
    "    if(\"MTP\" in file):\n",
    "        filePath = os.path.join(LOG_DIR_PATH, file)\n",
    "\n",
    "        if os.path.getsize(filePath) > 0:\n",
    "            change_count += number_of_change_helper(filePath)\n",
    "\n",
    "print(f\"Number of change = {change_count}\")"
   ]
  },
  {
   "cell_type": "markdown",
   "id": "861e2305-1a5e-4f03-b2a7-20e6de410262",
   "metadata": {},
   "source": [
    "## Manual Log Entry Checks\n",
    "\n",
    "This section is not something you need to use for each experiment run. It's only for log debugging purposes if you notice weird results or want to only view how certain nodes reacted to whatever you changed in the topology.\n",
    "\n",
    "| Variable | Use |\n",
    "| --- | --- |\n",
    "| PREFIX_TO_CHECK | A list containing however many name prefixes you'd like to search through for logs. If you only want one prefix, just include one list element with the name. | \n",
    "| LINE_MATCH | A string containing log information (ex: \"Detected a failure\") that will be search for and printed out | "
   ]
  },
  {
   "cell_type": "code",
   "execution_count": null,
   "id": "122909d6-9a2b-496c-980b-78928ec8c17c",
   "metadata": {},
   "outputs": [],
   "source": [
    "PREFIX_TO_CHECK = [\"L\", \"T\", \"S\"]\n",
    "LINE_MATCH = \"Detected a failure\""
   ]
  },
  {
   "cell_type": "code",
   "execution_count": null,
   "id": "88712d56-e1a1-4b87-ae89-f113d2466617",
   "metadata": {},
   "outputs": [],
   "source": [
    "files = os.listdir(LOG_DIR_PATH)\n",
    "\n",
    "# Search through the entire log directory\n",
    "for file in files:\n",
    "    \n",
    "    # If there is a prefix match for a log file name (which includes the node name), check it.\n",
    "    if any(prefix in file for prefix in PREFIX_TO_CHECK):\n",
    "        filePath = os.path.join(LOG_DIR_PATH, file)\n",
    "        print(f\"\\n========== {filePath} ==========\")\n",
    "        \n",
    "        f = open(filePath,\"r\") # Open log file\n",
    "        \n",
    "        # Read each line and find log line matches, if there are any. \n",
    "        line = f.readline()\n",
    "        while line:\n",
    "            if LINE_MATCH in line:\n",
    "                print(line)\n",
    "            line = f.readline()\n",
    "\n",
    "        f.close() # Open log file\n",
    "        "
   ]
  }
 ],
 "metadata": {
  "language_info": {
   "name": "python"
  }
 },
 "nbformat": 4,
 "nbformat_minor": 5
}
