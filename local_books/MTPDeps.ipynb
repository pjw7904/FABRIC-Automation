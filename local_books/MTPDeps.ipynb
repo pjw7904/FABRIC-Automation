{
 "cells": [
  {
   "cell_type": "markdown",
   "id": "3f6e805a-b424-467c-9804-515fc791787e",
   "metadata": {},
   "source": [
    "# Adding MTP Dependencies to a Slice"
   ]
  },
  {
   "cell_type": "markdown",
   "id": "afde3953-6a77-4959-b953-fda62daf9a75",
   "metadata": {},
   "source": [
    "## Input Required Information\n",
    "\n",
    "If you do not already have a slice created, please either create one using your own method or via the GraphML Slice Builder notebook provided. Also remember to configure your local Jupyter enviornment if you have not already (can you reach out to the nodes?).\n",
    "\n",
    "| Variable | Use |\n",
    "| --- | --- |\n",
    "| SLICE_NAME    | Name of the slice you wish to work on. |"
   ]
  },
  {
   "cell_type": "code",
   "execution_count": null,
   "id": "1f37ce88-0f0d-431b-8506-946f5dbf09a5",
   "metadata": {},
   "outputs": [],
   "source": [
    "SLICE_NAME = \"routers\"\n",
    "CLIENT_PREFIX = \"C\""
   ]
  },
  {
   "cell_type": "markdown",
   "id": "3be33fec-20fd-4a94-8953-a090e6f48cba",
   "metadata": {},
   "source": [
    "## Access the Slice\n",
    "\n",
    "FabOrchestrator is a custom Python class that utilizes the existing FabLib API. Its purpose is to make repetitive code easier to manage and build around features that we previously used in our custom GENI orchestrator.\n",
    "\n",
    "The orchestrator class is initalized here, which also means the slice and its nodes are now accessable as well.."
   ]
  },
  {
   "cell_type": "code",
   "execution_count": null,
   "id": "d2e26f90-77a5-48c5-87ad-76c778c4a0f5",
   "metadata": {},
   "outputs": [],
   "source": [
    "from FabUtils import FabOrchestrator\n",
    "\n",
    "try:\n",
    "    manager = FabOrchestrator(SLICE_NAME)\n",
    "    \n",
    "except Exception as e:\n",
    "    print(f\"Exception: {e}\")"
   ]
  },
  {
   "cell_type": "code",
   "execution_count": null,
   "id": "38098f6f-c4ad-437f-ab1b-a0b434058683",
   "metadata": {},
   "outputs": [],
   "source": [
    "import json\n",
    " \n",
    "# Opening JSON file\n",
    "f = open(f'{SLICE_NAME}_slice_log.json')\n",
    " \n",
    "# returns JSON object as \n",
    "# a dictionary\n",
    "data = json.load(f)"
   ]
  },
  {
   "cell_type": "markdown",
   "id": "9fa3d491-f023-4f64-b397-1090c9971453",
   "metadata": {},
   "source": [
    "## Upload Configuration Script\n",
    "\n",
    "Anything that would make sense to be configured that does not include package installation should be placed in the init_mtp.sh script. Currently, this modifies the tmux configuration after it is installed. "
   ]
  },
  {
   "cell_type": "code",
   "execution_count": null,
   "id": "3ad176ee-e404-4679-9aa9-af16b0e2c41d",
   "metadata": {},
   "outputs": [],
   "source": [
    "configScript = \"/home/fabric/work/custom/FABRIC-Automation/remote_scripts/mtp_scripts/init_mtp.sh\"\n",
    "manager.uploadFileParallel(configScript, prefixList=\"L,S\")"
   ]
  },
  {
   "cell_type": "markdown",
   "id": "170b0a46-482a-40db-8cc4-d73e81595845",
   "metadata": {},
   "source": [
    "## Install Dependencies and Make Configuration Changes on all Nodes\n",
    "\n",
    "Along with installing necessary pacakges, the initialization script uploaded in the prior cell is also run.\n",
    "\n",
    "| Package | Use |\n",
    "| --- | --- |\n",
    "| tmux    | Terminal multiplexer similar to GNU Screen to allow for ssh sessions to disconnect and let the process continue to run. |\n",
    "| Wireshark | Access to tshark, the command-line based version of the packet sniffer. |\n",
    "| Development Tools | Includes all necessary applications, such as GNU GCC C compiler, make, debuggers, man pages. etc., which are needed to compile, build, and troubleshoot MTP code |"
   ]
  },
  {
   "cell_type": "code",
   "execution_count": null,
   "id": "780a516b-f0b8-4d6b-bfdf-9dcdb5c4eab9",
   "metadata": {},
   "outputs": [],
   "source": [
    "# The commands to run\n",
    "packagesToInstall = \"sudo dnf install -q -y tmux wireshark\"\n",
    "devToolsInstall = 'sudo dnf groupinstall -q -y \"Development Tools\"'\n",
    "config = 'bash init_mtp.sh {name}'\n",
    "\n",
    "# Execute the commands\n",
    "manager.executeCommandsParallel(packagesToInstall)\n",
    "manager.executeCommandsParallel(devToolsInstall)\n",
    "manager.executeCommandsParallel(config, prefixList=\"L,S\", addNodeName=True)"
   ]
  },
  {
   "cell_type": "markdown",
   "id": "a04a742f-e870-4d3b-ac8f-7057900599cc",
   "metadata": {},
   "source": [
    "## Add Default Routes to the Compute Nodes\n",
    "\n",
    "The core data center network (DCN) nodes will forward based on the MTP data-plane header. Compute nodes are MTP-unaware and still require standard IP-based forwarding. This includes the ability to route outside of its LAN. The leaf interface which attaches the compute node to the rest of the DCN is set as the default gateway. These interfaces on each leaf are set to 254 for the last octet."
   ]
  },
  {
   "cell_type": "code",
   "execution_count": null,
   "id": "c382ab1d-0722-4d54-b087-8caf3e55e3cf",
   "metadata": {},
   "outputs": [],
   "source": [
    "from ipaddress import ip_address, IPv4Address, IPv4Network\n",
    "import re\n",
    "\n",
    "SLICE_SUPERNET = \"192.168.0.0/16\"\n",
    "\n",
    "for computeNode in manager.selectedNodes(CLIENT_PREFIX):\n",
    "    # Get the compute node's interface\n",
    "    intfName = f\"{computeNode.get_name()}-eth1-p1\"\n",
    "    intf = computeNode.get_interface(intfName)\n",
    "    \n",
    "    # Get the interface IPv4 address and its third octet\n",
    "    ipAddress = intf.get_ip_addr()\n",
    "    IPGroup = re.search(r\"192\\.168\\.([0-9]{1,3})\\.[0-9]{1,3}\", ipAddress)\n",
    "    thirdOctet = IPGroup.group(1)\n",
    "    nextHop = f\"192.168.{thirdOctet}.254\"\n",
    "    \n",
    "    # Add the route to the node\n",
    "    computeNode.ip_route_add(subnet=IPv4Network(SLICE_SUPERNET), gateway=IPv4Address(nextHop))\n",
    "    \n",
    "    print(f\"Adding route {SLICE_SUPERNET} to {computeNode.get_name()} with next-hop {nextHop}\")"
   ]
  },
  {
   "cell_type": "markdown",
   "id": "4dfdbbfb-9de9-4189-908c-fc029ec050b5",
   "metadata": {},
   "source": [
    "## Turn off Traditional IP-based Forwarding on MTP Nodes\n",
    "\n",
    "This is not done on compute/client nodes, as they are MTP-unaware."
   ]
  },
  {
   "cell_type": "code",
   "execution_count": null,
   "id": "c0f00f6d-7a22-4a63-99f1-c9a83f8c8389",
   "metadata": {},
   "outputs": [],
   "source": [
    "cmdOff = \"sudo sysctl -w net.ipv4.ip_forward=0\"\n",
    "cmdOn = \"sudo sysctl -w net.ipv4.ip_forward=1\"\n",
    "manager.executeCommandsParallel(cmdOff, prefixList=\"L,S\")\n",
    "manager.executeCommandsParallel(cmdOn, prefixList=\"C\")"
   ]
  }
 ],
 "metadata": {
  "language_info": {
   "name": "python"
  }
 },
 "nbformat": 4,
 "nbformat_minor": 5
}
