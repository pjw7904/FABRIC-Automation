{
 "cells": [
  {
   "cell_type": "markdown",
   "id": "3f6e805a-b424-467c-9804-515fc791787e",
   "metadata": {
    "tags": []
   },
   "source": [
    "# Getting a Slice and the Local Envionrnment Ready to Run MTP"
   ]
  },
  {
   "cell_type": "markdown",
   "id": "afde3953-6a77-4959-b953-fda62daf9a75",
   "metadata": {},
   "source": [
    "## Input Required Information\n",
    "\n",
    "Simply replace the value in SLICE_NAME with whatever slice you are working on. If you do not already have a slice created, please either create one using your own method or via the GraphML Slice Builder notebook provided. Also remember to configure your local Jupyter enviornment if you have not already. "
   ]
  },
  {
   "cell_type": "code",
   "execution_count": null,
   "id": "1f37ce88-0f0d-431b-8506-946f5dbf09a5",
   "metadata": {},
   "outputs": [],
   "source": [
    "SLICE_NAME = \"Clos\""
   ]
  },
  {
   "cell_type": "markdown",
   "id": "643785f2-1fb9-4d90-bafe-068a7ffafc6b",
   "metadata": {
    "tags": []
   },
   "source": [
    "## Import Required Libraries\n",
    "\n",
    "At this time, only the FabOrchestrator class is used, which is a custom class. This class accesses the necessary FabLib classes, so a seperate FabLib manager object is not necessary."
   ]
  },
  {
   "cell_type": "code",
   "execution_count": null,
   "id": "05dbe97f-3a25-46d3-9b6b-e3607c31a35f",
   "metadata": {
    "tags": []
   },
   "outputs": [],
   "source": [
    "from FabUtils import FabOrchestrator\n",
    "from ipaddress import ip_address, IPv4Address, IPv4Network"
   ]
  },
  {
   "cell_type": "markdown",
   "id": "3be33fec-20fd-4a94-8953-a090e6f48cba",
   "metadata": {
    "tags": []
   },
   "source": [
    "## Access the Slice\n",
    "\n",
    "The orchestrator class is initalized, which also means the slice and its nodes are now accessable as well."
   ]
  },
  {
   "cell_type": "code",
   "execution_count": null,
   "id": "d2e26f90-77a5-48c5-87ad-76c778c4a0f5",
   "metadata": {},
   "outputs": [],
   "source": [
    "try:\n",
    "    manager = FabOrchestrator(SLICE_NAME)\n",
    "    \n",
    "except Exception as e:\n",
    "    print(f\"Exception: {e}\")"
   ]
  },
  {
   "cell_type": "markdown",
   "id": "170b0a46-482a-40db-8cc4-d73e81595845",
   "metadata": {},
   "source": [
    "## Install Dependencies and Make Configuration Changes on All Nodes\n",
    "\n",
    "The packages needed are tmux and wireshark. tmux is a terminal multiplexer similar to GNU Screen to allow for ssh sessions to disconnect and let the process continue to run. Wireshark is installed to get access to tshark, the command-line based version of the packet sniffer."
   ]
  },
  {
   "cell_type": "code",
   "execution_count": null,
   "id": "780a516b-f0b8-4d6b-bfdf-9dcdb5c4eab9",
   "metadata": {},
   "outputs": [],
   "source": [
    "# The commands to run\n",
    "packagesToInstall = \"sudo dnf install -q -y tmux wireshark\"\n",
    "devToolsInstall = 'sudo dnf groupinstall -q -y \"Development Tools\"'\n",
    "config = 'sudo echo \"set -g remain-on-exit on\" > .tmux.conf'\n",
    "\n",
    "# Execute the commands\n",
    "manager.executeCommandsParallel(packagesToInstall)\n",
    "manager.executeCommandsParallel(devToolsInstall)\n",
    "manager.executeCommandsParallel(config)"
   ]
  },
  {
   "cell_type": "markdown",
   "id": "a04a742f-e870-4d3b-ac8f-7057900599cc",
   "metadata": {},
   "source": [
    "## Add Default Routes to the Compute Nodes"
   ]
  },
  {
   "cell_type": "code",
   "execution_count": null,
   "id": "c382ab1d-0722-4d54-b087-8caf3e55e3cf",
   "metadata": {},
   "outputs": [],
   "source": [
    "import re\n",
    "\n",
    "SLICE_SUPERNET = \"192.168.0.0/16\"\n",
    "\n",
    "for computeNode in manager.selectedNodes(\"C\"):\n",
    "    # Get the compute node's interface\n",
    "    intfName = f\"{computeNode.get_name()}-eth1-p1\"\n",
    "    intf = computeNode.get_interface(intfName)\n",
    "    \n",
    "    # Get the interface IPv4 address and its third octet\n",
    "    ipAddress = intf.get_ip_addr()\n",
    "    IPGroup = re.search(r\"192\\.168\\.([0-9]{1,3})\\.[0-9]{1,3}\", ipAddress)\n",
    "    thirdOctet = IPGroup.group(1)\n",
    "    nextHop = f\"192.168.{thirdOctet}.254\"\n",
    "    \n",
    "    # Add the route to the node\n",
    "    computeNode.ip_route_add(subnet=IPv4Network(SLICE_SUPERNET), gateway=IPv4Address(nextHop))\n",
    "    \n",
    "    print(f\"Adding route {SLICE_SUPERNET} to {computeNode.get_name()} with next-hop {nextHop}\")"
   ]
  }
 ],
 "metadata": {
  "kernelspec": {
   "display_name": "Python 3 (ipykernel)",
   "language": "python",
   "name": "python3"
  },
  "language_info": {
   "codemirror_mode": {
    "name": "ipython",
    "version": 3
   },
   "file_extension": ".py",
   "mimetype": "text/x-python",
   "name": "python",
   "nbconvert_exporter": "python",
   "pygments_lexer": "ipython3",
   "version": "3.9.7"
  }
 },
 "nbformat": 4,
 "nbformat_minor": 5
}
