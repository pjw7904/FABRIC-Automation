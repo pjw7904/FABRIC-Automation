{
 "cells": [
  {
   "cell_type": "markdown",
   "id": "3f6e805a-b424-467c-9804-515fc791787e",
   "metadata": {
    "tags": []
   },
   "source": [
    "# Getting a Slice and the Local Envionrnment Ready to Run MTP"
   ]
  },
  {
   "cell_type": "markdown",
   "id": "643785f2-1fb9-4d90-bafe-068a7ffafc6b",
   "metadata": {
    "tags": []
   },
   "source": [
    "## Import Necessary Libraries"
   ]
  },
  {
   "cell_type": "code",
   "execution_count": 2,
   "id": "05dbe97f-3a25-46d3-9b6b-e3607c31a35f",
   "metadata": {
    "tags": []
   },
   "outputs": [],
   "source": [
    "from fabrictestbed_extensions.fablib.fablib import FablibManager as fablib_manager\n",
    "import FabUtils\n",
    "import json"
   ]
  },
  {
   "cell_type": "markdown",
   "id": "3be33fec-20fd-4a94-8953-a090e6f48cba",
   "metadata": {
    "tags": []
   },
   "source": [
    "## Access Slice, Nodes, and Config"
   ]
  },
  {
   "cell_type": "code",
   "execution_count": 3,
   "id": "d2e26f90-77a5-48c5-87ad-76c778c4a0f5",
   "metadata": {},
   "outputs": [
    {
     "name": "stdout",
     "output_type": "stream",
     "text": [
      "Slice name: Clos\n",
      "Slice and nodes were acquired successfully.\n"
     ]
    }
   ],
   "source": [
    "try:\n",
    "    # Fablib object to manage the slice\n",
    "    fablib = fablib_manager()\n",
    "    \n",
    "    # JSON Config\n",
    "    with open(\"config.json\") as file:\n",
    "        config = json.load(file)\n",
    "\n",
    "    # Slice\n",
    "    sliceName =  config[\"slice\"][\"name\"]\n",
    "    slice = fablib.get_slice(sliceName)\n",
    "\n",
    "    # Nodes\n",
    "    nodeList = slice.get_nodes()\n",
    "    \n",
    "    print(f\"Slice name: {sliceName}\\nSlice and nodes were acquired successfully.\")\n",
    "    \n",
    "except Exception as e:\n",
    "    print(f\"Exception: {e}\")"
   ]
  },
  {
   "cell_type": "markdown",
   "id": "170b0a46-482a-40db-8cc4-d73e81595845",
   "metadata": {},
   "source": [
    "## Install Dependencies and Make Configuration Changes on All Nodes\n",
    "\n",
    "The packages needed are tmux and wireshark. tmux is a terminal multiplexer similar to GNU Screen to allow for ssh sessions to disconnect and let the process continue to run. Wireshark is installed to get access to tshark, the command-line based version of the packet sniffer."
   ]
  },
  {
   "cell_type": "code",
   "execution_count": 5,
   "id": "780a516b-f0b8-4d6b-bfdf-9dcdb5c4eab9",
   "metadata": {},
   "outputs": [
    {
     "name": "stdout",
     "output_type": "stream",
     "text": [
      "Starting initial config on node L1\n",
      "Starting initial config on node L2\n",
      "Starting initial config on node S1\n",
      "Starting initial config on node S2\n",
      "Starting initial config on node C1\n",
      "Starting initial config on node C2\n",
      "Waiting for result from node L1\n",
      "stdout: \n",
      "stderr: \n",
      "Waiting for result from node L2\n",
      "stdout: \n",
      "stderr: \n",
      "Waiting for result from node S1\n",
      "stdout: \n",
      "stderr: \n",
      "Waiting for result from node S2\n",
      "stdout: \n",
      "stderr: \n",
      "Waiting for result from node C1\n",
      "stdout: \n",
      "stderr: \n",
      "Waiting for result from node C2\n",
      "stdout: \n",
      "stderr: \n",
      "Starting initial config on node L1\n",
      "Starting initial config on node L2\n",
      "Starting initial config on node S1\n",
      "Starting initial config on node S2\n",
      "Starting initial config on node C1\n",
      "Starting initial config on node C2\n",
      "Waiting for result from node L1\n",
      "stdout: \n",
      "stderr: bash: .tmux.conf: Permission denied\n",
      "\n",
      "Waiting for result from node L2\n",
      "stdout: \n",
      "stderr: \n",
      "Waiting for result from node S1\n",
      "stdout: \n",
      "stderr: \n",
      "Waiting for result from node S2\n",
      "stdout: \n",
      "stderr: \n",
      "Waiting for result from node C1\n",
      "stdout: \n",
      "stderr: \n",
      "Waiting for result from node C2\n",
      "stdout: \n",
      "stderr: \n"
     ]
    }
   ],
   "source": [
    "packagesToInstall = \"sudo yum install -q -y tmux wireshark\"\n",
    "config = 'sudo echo \"set -g remain-on-exit on\" > .tmux.conf'\n",
    "FabUtils.executeCommandOnNodesParallel(slice, nodeList, packagesToInstall)\n",
    "FabUtils.executeCommandOnNodesParallel(slice, nodeList, config)"
   ]
  },
  {
   "cell_type": "code",
   "execution_count": null,
   "id": "f9277543-3fcc-4314-8a1a-1b48cbcf8404",
   "metadata": {},
   "outputs": [],
   "source": []
  }
 ],
 "metadata": {
  "kernelspec": {
   "display_name": "Python 3 (ipykernel)",
   "language": "python",
   "name": "python3"
  },
  "language_info": {
   "codemirror_mode": {
    "name": "ipython",
    "version": 3
   },
   "file_extension": ".py",
   "mimetype": "text/x-python",
   "name": "python",
   "nbconvert_exporter": "python",
   "pygments_lexer": "ipython3",
   "version": "3.9.7"
  }
 },
 "nbformat": 4,
 "nbformat_minor": 5
}
