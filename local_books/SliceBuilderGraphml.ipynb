{
 "cells": [
  {
   "cell_type": "markdown",
   "id": "3f6e805a-b424-467c-9804-515fc791787e",
   "metadata": {
    "tags": []
   },
   "source": [
    "# Slice Builder: GraphML Parsing\n",
    "\n",
    "This works in tandem with the Graph Analyzer code previously written, if desired (not required). That code can be found here: https://github.com/pjw7904/Graph-Analyzer/tree/develop\n",
    "\n",
    "Any graphml file comprised of basic node and edge tags will be able to work with this parser. Each node will be set up as a FABRIC node and any edge will be set up as a l2network between the specified nodes. Currently, this code does not consider extended LANs with more than two nodes.\n",
    "\n",
    "This was written to take advantage of existing graphml files, as opposed to the FABRIC-enhanced graphml RSPEC files that contain hardware properties that go beyond the basic topological information."
   ]
  },
  {
   "cell_type": "markdown",
   "id": "3da7fb36-03a4-4fc4-800f-86696114eaec",
   "metadata": {
    "tags": []
   },
   "source": [
    "## Input Required Information\n",
    "\n",
    "| Variable | Use |\n",
    "| --- | --- |\n",
    "| SLICE_NAME    | Name of slice you want to create. Please make sure a slice with that name does not already exist. |\n",
    "| SITE_NAME     | Name of the FABRIC site you want the nodes to be reserved at. This code does not consider inter-site situations, the entire topology is reserved on a single slice. |\n",
    "| GRAPH_PATH    | Path to the graphml file you want to use to create a topology. |\n",
    "| HAS_CLIENTS   | Enter True if clients are present in topology, if not, False. These nodes and the networks connecting them utilizes alternative naming and addressing structures. |\n",
    "| CLIENT_PREFIX | The naming prefix given to each node (currently, this is required if the topology does have clients) |"
   ]
  },
  {
   "cell_type": "code",
   "execution_count": null,
   "id": "3032a7d9-c55a-4b71-84f2-0fc9fc3a9704",
   "metadata": {
    "tags": []
   },
   "outputs": [],
   "source": [
    "SLICE_NAME = \"Clos\"\n",
    "SITE_NAME = \"MASS\"\n",
    "GRAPH_PATH = \"/home/fabric/work/custom/FABRIC-Automation/graphs/2tier_test.graphml\"\n",
    "HAS_CLIENTS = True\n",
    "CLIENT_PREFIX = \"C\""
   ]
  },
  {
   "cell_type": "markdown",
   "id": "643785f2-1fb9-4d90-bafe-068a7ffafc6b",
   "metadata": {
    "tags": []
   },
   "source": [
    "## Import the FABlib Library and Confirm the Configuration is Correct"
   ]
  },
  {
   "cell_type": "code",
   "execution_count": null,
   "id": "05dbe97f-3a25-46d3-9b6b-e3607c31a35f",
   "metadata": {
    "tags": []
   },
   "outputs": [],
   "source": [
    "from fabrictestbed_extensions.fablib.fablib import FablibManager as fablib_manager\n",
    "\n",
    "try: \n",
    "    fablib = fablib_manager()\n",
    "                     \n",
    "    fablib.show_config()\n",
    "except Exception as e:\n",
    "    print(f\"Exception: {e}\")"
   ]
  },
  {
   "cell_type": "markdown",
   "id": "33c4a369-6e10-4f8a-9f5e-422a6f882af0",
   "metadata": {},
   "source": [
    "## Parse GraphML for Topology and Create Slice\n",
    "\n",
    "The minidom library is used to parse the graphml. It assumes proper use of the node and edge tags. Examples of valid tags can be seen below. The name of the node is the node's id. Furthermore, it does not matter which node is the source and destination, it is parsed as an undirected graph and there will be issues if you try and create another network between the same two nodes.\n",
    "\n",
    "    <node id=\"L1\" />\n",
    "    <node id=\"S1\" />\n",
    "    <edge source=\"L1\" target=\"S1\" />\n"
   ]
  },
  {
   "cell_type": "code",
   "execution_count": null,
   "id": "03578fea-42a1-4428-991d-d6cf17f7f2f8",
   "metadata": {},
   "outputs": [],
   "source": [
    "import xml.dom.minidom\n",
    "from collections import Counter\n",
    "\n",
    "STARTING_INTF_NUM = 1\n",
    "\n",
    "try:        \n",
    "    #Create the slice\n",
    "    slice = fablib.new_slice(name=SLICE_NAME)\n",
    "    \n",
    "    # Create dictionary to store nodes\n",
    "    nodeDict = {}\n",
    "    \n",
    "    # Use XML parser to parse the GraphML file\n",
    "    docs = xml.dom.minidom.parse(GRAPH_PATH)\n",
    "\n",
    "    # Find all nodes via the node tag, add each to the slice with Rocky Linux as its base\n",
    "    nodes = docs.getElementsByTagName(\"node\")\n",
    "    for node in nodes:\n",
    "        # Grab the node name and determine if it is a client node based on its name prefix\n",
    "        nodeName = node.getAttribute(\"id\")\n",
    "        isClient = True if HAS_CLIENTS and nodeName.startswith(CLIENT_PREFIX) else False # Check for compute/client nodes\n",
    "        \n",
    "        # Add node to the slice\n",
    "        nodeInfo = slice.add_node(name=nodeName, cores=1, ram=4, image='default_rocky_8', site=SITE_NAME)\n",
    "        \n",
    "        # nodeDict = 0 -> FABRIC node object, 1 -> current intf number, 2 -> is a client/server (True) or not (False)\n",
    "        nodeDict[nodeName] = {\"nodeInfo\": nodeInfo, \"currentIntfNum\": STARTING_INTF_NUM, \"isClient\": isClient}\n",
    "        #[nodeInfo, 1, isClient]\n",
    "        \n",
    "        print(f'Added node {nodeName}')\n",
    "    \n",
    "    # Find all edges via the edge tag, add each to the slice via an L2Bridge connecting the node interfaces\n",
    "    edges = docs.getElementsByTagName(\"edge\")\n",
    "    for edge in edges:\n",
    "        # grab nodes x and y in edge (x,y)\n",
    "        source = edge.getAttribute(\"source\")\n",
    "        target = edge.getAttribute(\"target\")\n",
    "        \n",
    "        # Create an interface name for each interface in the network\n",
    "        sourceIntfName = \"eth{num}\".format(node=source, num=nodeDict[source][\"currentIntfNum\"])\n",
    "        targetIntfName = \"eth{num}\".format(node=target, num=nodeDict[target][\"currentIntfNum\"])\n",
    "        \n",
    "        # Name a network based on if it is a user-facing LAN (edge) or P2P links in the core of the network (core)\n",
    "        networkPrefix = \"edge\" if nodeDict[source][\"isClient\"]  or nodeDict[target][\"isClient\"] else \"core\"\n",
    "        networkName = f'{networkPrefix}-{source}-{target}'\n",
    "        \n",
    "        # Add a NIC for each node that is a part of the edge\n",
    "        sourceIntf = nodeDict[source][\"nodeInfo\"].add_component(model='NIC_Basic', name=sourceIntfName).get_interfaces()[0]\n",
    "        targetIntf = nodeDict[target][\"nodeInfo\"].add_component(model='NIC_Basic', name=targetIntfName).get_interfaces()[0]\n",
    "        \n",
    "        nodeDict[source][\"currentIntfNum\"] += 1\n",
    "        nodeDict[target][\"currentIntfNum\"] += 1\n",
    "\n",
    "        # Add a L2 network between the interfaces\n",
    "        slice.add_l2network(name=networkName, interfaces=[sourceIntf, targetIntf], type=\"L2Bridge\")\n",
    "        \n",
    "        print(f'Added edge {source}-{target}')\n",
    "\n",
    "     \n",
    "    #Submit Slice Request\n",
    "    slice.submit()\n",
    "\n",
    "except Exception as e:\n",
    "    print(f\"Exception: {e}\")"
   ]
  },
  {
   "cell_type": "markdown",
   "id": "ba0ce41e-0c30-450d-9570-241f3e59cc93",
   "metadata": {},
   "source": [
    "## Add Basic IPv4 Addressing\n",
    "\n",
    "In this system, 192.168.0.0/16 is the address space for all interfaces on the FABRIC slice. \n",
    "\n",
    "Each network is a /24 subnet of this network. Edge networks have client/compute devices with lower address (ex: .1) and networking nodes with higher addresses."
   ]
  },
  {
   "cell_type": "code",
   "execution_count": null,
   "id": "97460b84-506b-4d7b-9133-5a06dcc1301a",
   "metadata": {},
   "outputs": [],
   "source": [
    "from ipaddress import ip_address, IPv4Address, IPv4Network\n",
    "\n",
    "# Start with a 1 in the third octet\n",
    "thirdOctet = 1\n",
    "\n",
    "# For each newtork in the slice\n",
    "for network in slice.get_networks():\n",
    "    # Grab all of the usable host addresses for a new network (new third octet).\n",
    "    networkAddress = f'192.168.{thirdOctet}.0/24'\n",
    "    currentIPNetwork = IPv4Network(networkAddress)\n",
    "    hostIPList = list(currentIPNetwork)[1:-1] # 1:-1 = remove network and broadcast address\n",
    "    \n",
    "    # Determine if the current network is an edge or core network\n",
    "    networkName = network.get_name()\n",
    "    isEdgeNetwork = True if networkName.startswith(\"edge\") else False\n",
    "    \n",
    "    print(f\"Configuring network {networkName} with IPv4 Network {networkAddress}\")\n",
    "    \n",
    "    # For each interface in the network\n",
    "    for intf in network.get_interfaces():\n",
    "        intfName = intf.get_device_name()\n",
    "        nodeName = intf.get_node().get_name()\n",
    "        \n",
    "        # If this is an edge network and it is a networking node, not the client node, give it a high-range address.\n",
    "        if(isEdgeNetwork and not nodeDict[nodeName][\"isClient\"]):\n",
    "            currentIPv4Address = hostIPList.pop() # Highest available host address in network\n",
    "        else:\n",
    "            currentIPv4Address = hostIPList.pop(0) # Lowest available host address in network\n",
    "        \n",
    "        # Add the address to the node\n",
    "        intf.ip_addr_add(addr=currentIPv4Address, subnet=currentIPNetwork)\n",
    "        print(f\"\\t{nodeName} {intf.get_device_name()} = {currentIPv4Address}\")\n",
    "        \n",
    "    thirdOctet += 1"
   ]
  }
 ],
 "metadata": {
  "kernelspec": {
   "display_name": "Python 3 (ipykernel)",
   "language": "python",
   "name": "python3"
  },
  "language_info": {
   "codemirror_mode": {
    "name": "ipython",
    "version": 3
   },
   "file_extension": ".py",
   "mimetype": "text/x-python",
   "name": "python",
   "nbconvert_exporter": "python",
   "pygments_lexer": "ipython3",
   "version": "3.10.6"
  }
 },
 "nbformat": 4,
 "nbformat_minor": 5
}
