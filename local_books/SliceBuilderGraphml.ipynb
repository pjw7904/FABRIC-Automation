{
 "cells": [
  {
   "cell_type": "markdown",
   "id": "3f6e805a-b424-467c-9804-515fc791787e",
   "metadata": {
    "tags": []
   },
   "source": [
    "# Slice Builder: GraphML Parsing"
   ]
  },
  {
   "cell_type": "markdown",
   "id": "3da7fb36-03a4-4fc4-800f-86696114eaec",
   "metadata": {},
   "source": [
    "## Pick a Slice Name, Site to Work on, and the GraphML File to Parse"
   ]
  },
  {
   "cell_type": "code",
   "execution_count": null,
   "id": "3032a7d9-c55a-4b71-84f2-0fc9fc3a9704",
   "metadata": {
    "tags": []
   },
   "outputs": [],
   "source": [
    "# Constants to change as needed\n",
    "SLICE_NAME = \"Clos\"\n",
    "SITE_NAME = \"MASS\"\n",
    "GRAPH_PATH = \"/home/fabric/work/custom/FABRIC-Automation/graphs/2tier_test.graphml\"\n",
    "HAS_CLIENTS = True\n",
    "CLIENT_PREFIX = \"C\""
   ]
  },
  {
   "cell_type": "markdown",
   "id": "643785f2-1fb9-4d90-bafe-068a7ffafc6b",
   "metadata": {
    "tags": []
   },
   "source": [
    "## Import the FABlib Library and Confirm the Configuration is Correct"
   ]
  },
  {
   "cell_type": "code",
   "execution_count": null,
   "id": "05dbe97f-3a25-46d3-9b6b-e3607c31a35f",
   "metadata": {
    "tags": []
   },
   "outputs": [],
   "source": [
    "from fabrictestbed_extensions.fablib.fablib import FablibManager as fablib_manager\n",
    "\n",
    "\n",
    "try: \n",
    "    fablib = fablib_manager()\n",
    "                     \n",
    "    fablib.show_config()\n",
    "except Exception as e:\n",
    "    print(f\"Exception: {e}\")"
   ]
  },
  {
   "cell_type": "markdown",
   "id": "33c4a369-6e10-4f8a-9f5e-422a6f882af0",
   "metadata": {},
   "source": [
    "## Parse GraphML for Topology and Create Slice"
   ]
  },
  {
   "cell_type": "code",
   "execution_count": null,
   "id": "03578fea-42a1-4428-991d-d6cf17f7f2f8",
   "metadata": {},
   "outputs": [],
   "source": [
    "import xml.dom.minidom\n",
    "from collections import Counter\n",
    "\n",
    "STARTING_INTF_NUM = 1\n",
    "\n",
    "try:        \n",
    "    #Create the slice\n",
    "    slice = fablib.new_slice(name=SLICE_NAME)\n",
    "    \n",
    "    # Create dictionary to store nodes\n",
    "    nodeDict = {}\n",
    "    \n",
    "    # Use XML parser to parse the GraphML file\n",
    "    docs = xml.dom.minidom.parse(GRAPH_PATH)\n",
    "\n",
    "    # Find all nodes via the node tag, add each to the slice with Rocky Linux as its base\n",
    "    nodes = docs.getElementsByTagName(\"node\")\n",
    "    for node in nodes:\n",
    "        # Grab the node name and determine if it is a client node based on its name prefix\n",
    "        nodeName = node.getAttribute(\"id\")\n",
    "        isClient = True if HAS_CLIENTS and nodeName.startswith(CLIENT_PREFIX) else False # Check for compute/client nodes\n",
    "        \n",
    "        # Add node to the slice\n",
    "        nodeInfo = slice.add_node(name=nodeName, cores=1, ram=4, image='default_rocky_8', site=SITE_NAME)\n",
    "        \n",
    "        # nodeDict = 0 -> FABRIC node object, 1 -> current intf number, 2 -> is a client/server (True) or not (False)\n",
    "        nodeDict[nodeName] = {\"nodeInfo\": nodeInfo, \"currentIntfNum\": STARTING_INTF_NUM, \"isClient\": isClient}\n",
    "        #[nodeInfo, 1, isClient]\n",
    "        \n",
    "        print(f'Added node {nodeName}')\n",
    "    \n",
    "    # Find all edges via the edge tag, add each to the slice via an L2Bridge connecting the node interfaces\n",
    "    edges = docs.getElementsByTagName(\"edge\")\n",
    "    for edge in edges:\n",
    "        # grab nodes x and y in edge (x,y)\n",
    "        source = edge.getAttribute(\"source\")\n",
    "        target = edge.getAttribute(\"target\")\n",
    "        \n",
    "        # Create an interface name for each interface in the network\n",
    "        sourceIntfName = \"eth{num}\".format(node=source, num=nodeDict[source][\"currentIntfNum\"])\n",
    "        targetIntfName = \"eth{num}\".format(node=target, num=nodeDict[target][\"currentIntfNum\"])\n",
    "        \n",
    "        # Name a network based on if it is a user-facing LAN (edge) or P2P links in the core of the network (core)\n",
    "        networkPrefix = \"edge\" if nodeDict[source][\"isClient\"]  or nodeDict[target][\"isClient\"] else \"core\"\n",
    "        networkName = f'{networkPrefix}-{source}-{target}'\n",
    "        \n",
    "        # Add a NIC for each node that is a part of the edge\n",
    "        sourceIntf = nodeDict[source][\"nodeInfo\"].add_component(model='NIC_Basic', name=sourceIntfName).get_interfaces()[0]\n",
    "        targetIntf = nodeDict[target][\"nodeInfo\"].add_component(model='NIC_Basic', name=targetIntfName).get_interfaces()[0]\n",
    "        \n",
    "        nodeDict[source][\"currentIntfNum\"] += 1\n",
    "        nodeDict[target][\"currentIntfNum\"] += 1\n",
    "\n",
    "        # Add a L2 network between the interfaces\n",
    "        slice.add_l2network(name=networkName, interfaces=[sourceIntf, targetIntf], type=\"L2Bridge\")\n",
    "        \n",
    "        print(f'Added edge {source}-{target}')\n",
    "\n",
    "     \n",
    "    #Submit Slice Request\n",
    "    slice.submit()\n",
    "\n",
    "except Exception as e:\n",
    "    print(f\"Exception: {e}\")"
   ]
  },
  {
   "cell_type": "markdown",
   "id": "ba0ce41e-0c30-450d-9570-241f3e59cc93",
   "metadata": {},
   "source": [
    "## Add Basic IPv4 Addressing\n",
    "\n",
    "In this system, 192.168.0.0/16 is the address range for all interfaces on the FABRIC slice. Each network is a /24 subnet of this network. Edge networks have client/compute devices with lower address (ex: .1) and networking nodes with higher addresses."
   ]
  },
  {
   "cell_type": "code",
   "execution_count": null,
   "id": "97460b84-506b-4d7b-9133-5a06dcc1301a",
   "metadata": {},
   "outputs": [],
   "source": [
    "from ipaddress import ip_address, IPv4Address, IPv4Network\n",
    "\n",
    "# Start with a 1 in the third octet\n",
    "thirdOctet = 1\n",
    "\n",
    "for network in slice.get_networks():\n",
    "    networkAddress = f'192.168.{thirdOctet}.0/24'\n",
    "    currentIPNetwork = IPv4Network(networkAddress)\n",
    "    hostIPList = list(currentIPNetwork)[1:-1]\n",
    "    \n",
    "    networkName = network.get_name()\n",
    "    isEdgeNetwork = True if networkName.startswith(\"edge\") else False\n",
    "    \n",
    "    print(f\"Configuring network {networkName} with IPv4 Network {networkAddress}\")\n",
    "    \n",
    "    for intf in network.get_interfaces():\n",
    "        intfName = intf.get_device_name()\n",
    "        nodeName = intf.get_node().get_name()\n",
    "        \n",
    "        # If this is an edge network and it is a networking node, not the client node, give it a high-range address.\n",
    "        if(isEdgeNetwork and not nodeDict[nodeName][\"isClient\"]):\n",
    "            currentIPv4Address = hostIPList.pop() # Highest available host address in network\n",
    "        else:\n",
    "            currentIPv4Address = hostIPList.pop(0) # Lowest available host address in network\n",
    "        \n",
    "        intf.ip_addr_add(addr=currentIPv4Address, subnet=currentIPNetwork)\n",
    "        print(f\"\\t{nodeName} {intf.get_device_name()} = {currentIPv4Address}\")\n",
    "        \n",
    "    thirdOctet += 1"
   ]
  }
 ],
 "metadata": {
  "kernelspec": {
   "display_name": "Python 3 (ipykernel)",
   "language": "python",
   "name": "python3"
  },
  "language_info": {
   "codemirror_mode": {
    "name": "ipython",
    "version": 3
   },
   "file_extension": ".py",
   "mimetype": "text/x-python",
   "name": "python",
   "nbconvert_exporter": "python",
   "pygments_lexer": "ipython3",
   "version": "3.9.7"
  }
 },
 "nbformat": 4,
 "nbformat_minor": 5
}
