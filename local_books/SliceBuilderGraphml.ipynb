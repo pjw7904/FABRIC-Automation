{
 "cells": [
  {
   "cell_type": "markdown",
   "id": "3f6e805a-b424-467c-9804-515fc791787e",
   "metadata": {},
   "source": [
    "# Slice Builder: GraphML Parsing\n",
    "\n",
    "This works in tandem with the Graph Analyzer code previously written, if desired (not required). That code can be found here: https://github.com/pjw7904/Graph-Analyzer/tree/develop\n",
    "\n",
    "Any graphml file comprised of basic node and edge tags will be able to work with this parser. Each node will be set up as a FABRIC node and any edge will be set up as a l2network between the specified nodes. Currently, this code does not consider extended LANs with more than two nodes.\n",
    "\n",
    "This was written to take advantage of existing graphml files, as opposed to the FABRIC-enhanced graphml RSPEC files that contain hardware properties that go beyond the basic topological information."
   ]
  },
  {
   "cell_type": "markdown",
   "id": "3da7fb36-03a4-4fc4-800f-86696114eaec",
   "metadata": {},
   "source": [
    "## Input Required Information\n",
    "\n",
    "| Variable | Use |\n",
    "| --- | --- |\n",
    "| SLICE_NAME    | Name of slice you want to create. Please make sure a slice with that name does not already exist. |\n",
    "| SITE_NAME     | Name of the FABRIC site you want the nodes to be reserved at. This code does not consider inter-site situations, the entire topology is reserved on a single slice. |\n",
    "| GRAPH_PATH    | Path to the graphml file you want to use to create a topology. |\n",
    "| HAS_CLIENTS   | Enter True if clients are present in topology, if not, False. These nodes and the networks connecting them utilizes alternative naming and addressing structures. |\n",
    "| CLIENT_PREFIX | The naming prefix given to each node (currently, this is required if the topology does have clients) |\n",
    "| MEAS_ADD      | Enter True if measurements are to be taken on the slice. This requires the inclusion of a separate measurement node |"
   ]
  },
  {
   "cell_type": "code",
   "execution_count": null,
   "id": "3032a7d9-c55a-4b71-84f2-0fc9fc3a9704",
   "metadata": {},
   "outputs": [],
   "source": [
    "SLICE_NAME = \"test\"\n",
    "SITE_NAME = \"WASH\"\n",
    "GRAPH_PATH = \"/home/fabric/work/custom/FABRIC-Automation/graphs/triangle.graphml\"\n",
    "HAS_CLIENTS = False\n",
    "CLIENT_PREFIX = \"ipnode\"\n",
    "MEAS_ADD = True"
   ]
  },
  {
   "cell_type": "markdown",
   "id": "643785f2-1fb9-4d90-bafe-068a7ffafc6b",
   "metadata": {},
   "source": [
    "## Import the FABlib Library and Confirm the Configuration is Correct"
   ]
  },
  {
   "cell_type": "code",
   "execution_count": null,
   "id": "05dbe97f-3a25-46d3-9b6b-e3607c31a35f",
   "metadata": {},
   "outputs": [],
   "source": [
    "from fabrictestbed_extensions.fablib.fablib import FablibManager as fablib_manager\n",
    "\n",
    "try: \n",
    "    fablib = fablib_manager()\n",
    "                     \n",
    "    fablib.show_config()\n",
    "except Exception as e:\n",
    "    print(f\"Exception: {e}\")"
   ]
  },
  {
   "cell_type": "markdown",
   "id": "33c4a369-6e10-4f8a-9f5e-422a6f882af0",
   "metadata": {},
   "source": [
    "## Parse the GraphML for the Topology and Create the Slice\n",
    "\n",
    "The minidom library is used to parse the graphml. It assumes proper use of the node and edge tags. Examples of valid tags can be seen below. The name of the node is the node's id. Furthermore, it does not matter which node is the source and destination, it is parsed as an undirected graph and there will be issues if you try and create another network between the same two nodes.\n",
    "\n",
    "    <node id=\"L1\" />\n",
    "    <node id=\"S1\" />\n",
    "    <edge source=\"L1\" target=\"S1\" />\n"
   ]
  },
  {
   "cell_type": "code",
   "execution_count": null,
   "id": "03578fea-42a1-4428-991d-d6cf17f7f2f8",
   "metadata": {},
   "outputs": [],
   "source": [
    "import xml.dom.minidom\n",
    "from collections import Counter\n",
    "\n",
    "try:        \n",
    "    #Create the slice\n",
    "    slice = fablib.new_slice(name=SLICE_NAME)\n",
    "    \n",
    "    # Create dictionary to store nodes\n",
    "    nodeDict = {}\n",
    "    \n",
    "    # Create dictionary to store information to dump into a file\n",
    "    logFile = {\"name\": SLICE_NAME, \"site\": SITE_NAME}\n",
    "    \n",
    "    # Use XML parser to parse the GraphML file\n",
    "    docs = xml.dom.minidom.parse(GRAPH_PATH)\n",
    "\n",
    "    # Find all nodes via the node tag, add each to the slice with Rocky Linux as its base\n",
    "    nodes = docs.getElementsByTagName(\"node\")\n",
    "    for node in nodes:\n",
    "        # Grab the node name and determine if it is a client node based on its name prefix\n",
    "        nodeName = node.getAttribute(\"id\")\n",
    "        isClient = True if HAS_CLIENTS and nodeName.startswith(CLIENT_PREFIX) else False # Check for compute/client nodes\n",
    "        \n",
    "        ### LOG FILE INFO\n",
    "        logFile[nodeName] = {\"isClient\": isClient, \"networks\": {}}\n",
    "        \n",
    "        # Add node to the slice\n",
    "        nodeInfo = slice.add_node(name=nodeName, cores=1, ram=4, image='default_rocky_8', site=SITE_NAME)\n",
    "        \n",
    "        # nodeDict = 0 -> FABRIC node object, 1 -> is a client/server (True) or not (False)\n",
    "        nodeDict[nodeName] = {\"nodeInfo\": nodeInfo, \"isClient\": isClient}\n",
    "        \n",
    "        print(f'Added node {nodeName}')\n",
    "    \n",
    "    # Find all edges via the edge tag, add each to the slice via an L2Bridge connecting the node interfaces\n",
    "    edges = docs.getElementsByTagName(\"edge\")\n",
    "    for edge in edges:\n",
    "        # grab nodes x and y in edge (x,y)\n",
    "        source = edge.getAttribute(\"source\")\n",
    "        target = edge.getAttribute(\"target\")\n",
    "        \n",
    "        # Create an interface name for each interface in the network\n",
    "        sourceIntfName = f\"intf-{target}\"\n",
    "        targetIntfName = f\"intf-{source}\"\n",
    "        \n",
    "        # Name a network based on if it is a user-facing LAN (edge) or P2P links in the core of the network (core)\n",
    "        networkPrefix = \"edge\" if nodeDict[source][\"isClient\"]  or nodeDict[target][\"isClient\"] else \"core\"\n",
    "        networkName = f'{networkPrefix}-{source}-{target}'\n",
    "        \n",
    "        # Add a NIC for each node that is a part of the edge\n",
    "        sourceIntf = nodeDict[source][\"nodeInfo\"].add_component(model='NIC_Basic', name=sourceIntfName).get_interfaces()[0]\n",
    "        targetIntf = nodeDict[target][\"nodeInfo\"].add_component(model='NIC_Basic', name=targetIntfName).get_interfaces()[0]\n",
    "\n",
    "        # Add a L2 network between the interfaces\n",
    "        slice.add_l2network(name=networkName, interfaces=[sourceIntf, targetIntf], type=\"L2Bridge\")\n",
    "        \n",
    "        ### LOG FILE INFO\n",
    "        logFile[source][\"networks\"][networkName] = {\"neighbor\": target}\n",
    "        logFile[target][\"networks\"][networkName] = {\"neighbor\": source}\n",
    "        \n",
    "        print(f'Added edge {source}-{target}')\n",
    "\n",
    "except Exception as e:\n",
    "    print(f\"Exception: {e}\")"
   ]
  },
  {
   "cell_type": "markdown",
   "id": "6cd7ddea-18fe-4e7b-99fc-13b20ae5c4b7",
   "metadata": {},
   "source": [
    "## Add a Measurement Node (Optional)"
   ]
  },
  {
   "cell_type": "code",
   "execution_count": null,
   "id": "9ec2d25b-80b2-40b7-8141-14d20e5e4035",
   "metadata": {},
   "outputs": [],
   "source": [
    "if(MEAS_ADD):\n",
    "    import mflib \n",
    "    print(f\"MFLib version  {mflib.__version__} \" )\n",
    "\n",
    "    from mflib.mflib import MFLib\n",
    "\n",
    "    # Add measurement node to topology using static method.\n",
    "    MFLib.addMeasNode(slice, disk=100, image='docker_ubuntu_20', site=SITE_NAME)\n",
    "    print(\"Measurement node added.\")"
   ]
  },
  {
   "cell_type": "markdown",
   "id": "6cd1593b-fee9-49ad-8b9a-59f78be1afc9",
   "metadata": {},
   "source": [
    "## Submit the Slice"
   ]
  },
  {
   "cell_type": "code",
   "execution_count": null,
   "id": "4f437a77-a350-40cc-ab08-402d3cf4bb46",
   "metadata": {},
   "outputs": [],
   "source": [
    "%%time\n",
    "import json \n",
    "\n",
    "try:\n",
    "    # Submit Slice Request\n",
    "    print(f'Submitting the new slice, \"{SLICE_NAME}\"...')\n",
    "    slice.submit()\n",
    "    print(f'{SLICE_NAME} creation done.')\n",
    "\n",
    "except Exception as e:\n",
    "    print(f\"Slice Fail: {e}\")\n",
    "    traceback.print_exc()"
   ]
  },
  {
   "cell_type": "markdown",
   "id": "44713345-cafe-4369-88ed-e0c4febd5164",
   "metadata": {},
   "source": [
    "## Initalize the Measurement Framework (Optional)\n",
    "\n",
    "This step both initalizes and instrumentizes the Measurement framework to use Prometheus and Grafana. If ELK is desired, modifications to the cell need to be made."
   ]
  },
  {
   "cell_type": "code",
   "execution_count": null,
   "id": "2a270f84-43b9-4fc2-bddf-13b3ef6cc9a8",
   "metadata": {},
   "outputs": [],
   "source": [
    "if(MEAS_ADD):\n",
    "    mf = MFLib(SLICE_NAME) # Initalize\n",
    "    instrumetize_results = mf.instrumentize( [\"prometheus\"] ) # Instrumentize\n",
    "    \n",
    "    # Grafana SSH Tunnel Command\n",
    "    # mf.grafana_tunnel_local_port = 10010 # optionally change the port\n",
    "    print(mf.grafana_tunnel)\n",
    "    print(f\"Browse to https://localhost:{mf.grafana_tunnel_local_port}/grafana/dashboards?query=%2A\")"
   ]
  },
  {
   "cell_type": "markdown",
   "id": "ba0ce41e-0c30-450d-9570-241f3e59cc93",
   "metadata": {},
   "source": [
    "## Add Basic IPv4 Addressing\n",
    "\n",
    "In this system, 192.168.0.0/16 is the address space for all interfaces on the FABRIC slice. \n",
    "\n",
    "Each network is a /24 subnet of this network. Edge networks have client/compute devices with lower address (ex: .1) and networking nodes with higher addresses."
   ]
  },
  {
   "cell_type": "code",
   "execution_count": null,
   "id": "97460b84-506b-4d7b-9133-5a06dcc1301a",
   "metadata": {},
   "outputs": [],
   "source": [
    "from ipaddress import ip_address, IPv4Address, IPv4Network\n",
    "\n",
    "def updateMeasNetworkName(node, nodeName, intfName):\n",
    "        if(\"meas\" not in nodeName): \n",
    "            node.execute(command=f\"sudo ip link set dev {intfName} down\")\n",
    "            node.execute(command=f\"sudo ip link set dev {intfName} name meas\")\n",
    "            node.execute(command=f\"sudo ip link set dev meas up\")\n",
    "            \n",
    "            print(f\"\\t{nodeName} {intfName} renamed meas\")\n",
    "        else:\n",
    "            print(f\"\\tMeasurement node not modified\")\n",
    "\n",
    "        return\n",
    "\n",
    "# Start with a 1 in the third octet\n",
    "thirdOctet = 1\n",
    "\n",
    "# For each newtork in the slice\n",
    "for network in slice.get_networks():\n",
    "    # Grab all of the usable host addresses for a new network (new third octet).\n",
    "    networkAddress = f'192.168.{thirdOctet}.0/24'\n",
    "    currentIPNetwork = IPv4Network(networkAddress)\n",
    "    hostIPList = list(currentIPNetwork)[1:-1] # 1:-1 = remove network and broadcast address\n",
    "    getNewNetwork = False\n",
    "    \n",
    "    # Determine if the current network is an edge or core network\n",
    "    networkName = network.get_name()\n",
    "    \n",
    "    isEdgeNetwork = True if networkName.startswith(\"edge\") else False\n",
    "    \n",
    "    # For each interface in the network\n",
    "    for intf in network.get_interfaces():        \n",
    "        intfName = intf.get_physical_os_interface_name()\n",
    "        node = intf.get_node()\n",
    "        nodeName = node.get_name()\n",
    "        \n",
    "        # Measurement network is auto-assigned IP addressing, it needs intf naming updates\n",
    "        if(\"meas\" in networkName):\n",
    "            updateMeasNetworkName(node, nodeName, intfName)\n",
    "        else:\n",
    "            print(f\"Configuring network {networkName} with IPv4 Network {networkAddress}\")\n",
    "            # If this is an edge network and it is a networking node, not the client node, give it a high-range address.\n",
    "            if(isEdgeNetwork and not nodeDict[nodeName][\"isClient\"]):\n",
    "                currentIPv4Address = hostIPList.pop() # Highest available host address in network\n",
    "            else:\n",
    "                currentIPv4Address = hostIPList.pop(0) # Lowest available host address in network\n",
    "\n",
    "            # Add the address to the node\n",
    "            intf.ip_addr_add(addr=currentIPv4Address, subnet=currentIPNetwork)\n",
    "            print(f\"\\t{nodeName} {intf.get_device_name()} = {currentIPv4Address}\")\n",
    "            \n",
    "            getNewNetwork = True\n",
    "        \n",
    "            ### LOG FILE INFO\n",
    "            logFile[nodeName][\"networks\"][networkName][\"subnet\"] = str(currentIPNetwork)\n",
    "            logFile[nodeName][\"networks\"][networkName][\"ipv4\"] = str(currentIPv4Address)\n",
    "    \n",
    "    if(getNewNetwork):\n",
    "        thirdOctet += 1"
   ]
  },
  {
   "cell_type": "markdown",
   "id": "98c785df-77bd-4f7a-b525-87aa335c3717",
   "metadata": {},
   "source": [
    "## Log Topology Information"
   ]
  },
  {
   "cell_type": "code",
   "execution_count": null,
   "id": "0c6e1c2a-84bf-4626-bde0-25f39bd5cb43",
   "metadata": {},
   "outputs": [],
   "source": [
    "## LOG FILE INFO\n",
    "with open(\"topo_log.json\", \"w\") as outfile: \n",
    "    json.dump(logFile, outfile)"
   ]
  }
 ],
 "metadata": {
  "language_info": {
   "name": "python"
  }
 },
 "nbformat": 4,
 "nbformat_minor": 5
}
