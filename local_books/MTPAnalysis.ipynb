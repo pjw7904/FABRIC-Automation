{
 "cells": [
  {
   "cell_type": "markdown",
   "id": "3f6e805a-b424-467c-9804-515fc791787e",
   "metadata": {
    "tags": []
   },
   "source": [
    "# Analyze MTP Log Results"
   ]
  },
  {
   "cell_type": "markdown",
   "id": "afde3953-6a77-4959-b953-fda62daf9a75",
   "metadata": {},
   "source": [
    "## Input Required Information"
   ]
  },
  {
   "cell_type": "code",
   "execution_count": 7,
   "id": "1f37ce88-0f0d-431b-8506-946f5dbf09a5",
   "metadata": {
    "tags": []
   },
   "outputs": [],
   "source": [
    "LOG_DIR_PATH = \"/home/fabric/work/custom/FABRIC-Automation/logs\""
   ]
  },
  {
   "cell_type": "markdown",
   "id": "3be33fec-20fd-4a94-8953-a090e6f48cba",
   "metadata": {
    "tags": []
   },
   "source": [
    "## **Control Overhead**"
   ]
  },
  {
   "cell_type": "code",
   "execution_count": 11,
   "id": "60450011-fe38-4148-9dd3-e3e2133cb41f",
   "metadata": {
    "tags": []
   },
   "outputs": [
    {
     "name": "stdout",
     "output_type": "stream",
     "text": [
      "Control overhead (byte) = 56\n"
     ]
    }
   ],
   "source": [
    "import os\n",
    "\n",
    "def control_overhead_helper(file_name):\n",
    "    f = open(file_name,\"r\")\n",
    "   \n",
    "    line = f.readline()\n",
    "    \n",
    "    size = 0\n",
    "    while line:\n",
    "        if \"FAILURE UPDATE message received\" in line:\n",
    "            line = f.readline()\n",
    "            size += int(line.split(\"=\")[1])\n",
    "        line = f.readline()   \n",
    "    \n",
    "    f.close()\n",
    "\n",
    "    return size\n",
    "\n",
    "# Default starting value for the number of bytes\n",
    "total_size = 0\n",
    "\n",
    "files = os.listdir(LOG_DIR_PATH)\n",
    "for file in files:\n",
    "    filePath = os.path.join(LOG_DIR_PATH, file)\n",
    "\n",
    "    if os.path.getsize(filePath) > 0:\n",
    "        total_size += control_overhead_helper(filePath)\n",
    "\n",
    "print(f\"Control overhead (byte) = {total_size}\")"
   ]
  },
  {
   "cell_type": "markdown",
   "id": "81c033ce-3e24-49c7-8433-4dc2de8f3237",
   "metadata": {
    "tags": []
   },
   "source": [
    "## **Convergence Timing**"
   ]
  },
  {
   "cell_type": "code",
   "execution_count": 13,
   "id": "eff6dde5-e71d-4ef3-bbfa-8c71139d4dba",
   "metadata": {
    "tags": []
   },
   "outputs": [
    {
     "name": "stdout",
     "output_type": "stream",
     "text": [
      "Convergent time (ms) = 192\n"
     ]
    }
   ],
   "source": [
    "def convergent_time_helper(file_name):\n",
    "    f = open(file_name,\"r\")\n",
    "\n",
    "    line = f.readline()\n",
    "\n",
    "    while line:\n",
    "        if \"Detected a failure\" in line:\n",
    "            token = line.split(\" \")\n",
    "            \n",
    "            return 0,int(token[len(token)-1])\n",
    "        \n",
    "        elif \"FAILURE UPDATE message received\" in line:\n",
    "            token = line.split(\" \")\n",
    "            \n",
    "            return 1,int(token[6].replace(\",\",\"\"))\n",
    "        \n",
    "        line = f.readline()\n",
    "        \n",
    "    return -1,-1\n",
    "\n",
    "# Default starting values for the timing range\n",
    "begin_time = -1\n",
    "end_time = -1\n",
    "\n",
    "files = os.listdir(LOG_DIR_PATH)\n",
    "for file in files:\n",
    "    filePath = os.path.join(LOG_DIR_PATH, file)\n",
    "\n",
    "    if os.path.getsize(filePath) > 0:\n",
    "        type, value = convergent_time_helper(filePath)\n",
    "\n",
    "        if type == 0:\n",
    "            begin_time = value\n",
    "        else:\n",
    "            end_time = max(end_time,value)\n",
    "\n",
    "convergenceTime = end_time - begin_time\n",
    "print(f\"Convergent time (ms) = {convergenceTime}\")"
   ]
  },
  {
   "cell_type": "markdown",
   "id": "80de2d7a-21fc-496a-b016-b8d94033ef62",
   "metadata": {
    "tags": []
   },
   "source": [
    "## **Churn Rate (Number of Changes)**"
   ]
  },
  {
   "cell_type": "code",
   "execution_count": 15,
   "id": "94c25eff-6da4-4d18-846b-42203fd0ffd1",
   "metadata": {},
   "outputs": [
    {
     "name": "stdout",
     "output_type": "stream",
     "text": [
      "Number of change = 2\n"
     ]
    }
   ],
   "source": [
    "def number_of_change_helper(file_name):\n",
    "    f = open(file_name,\"r\")\n",
    "\n",
    "    line = f.readline()\n",
    "\n",
    "    while line:\n",
    "        if \"Detected a failure\" in line or \"FAILURE UPDATE message received\" in line:\n",
    "            return 1\n",
    "        \n",
    "        line = f.readline()\n",
    "    \n",
    "    return 0\n",
    "\n",
    "# Default starting value for the number of changes that occur\n",
    "change_count = 0\n",
    "\n",
    "files = os.listdir(LOG_DIR_PATH)\n",
    "for file in files:\n",
    "    filePath = os.path.join(LOG_DIR_PATH, file)\n",
    "    \n",
    "    if os.path.getsize(filePath) > 0:\n",
    "        change_count += number_of_change_helper(filePath)\n",
    "\n",
    "print(f\"Number of change = {change_count}\")"
   ]
  }
 ],
 "metadata": {
  "kernelspec": {
   "display_name": "Python 3 (ipykernel)",
   "language": "python",
   "name": "python3"
  },
  "language_info": {
   "codemirror_mode": {
    "name": "ipython",
    "version": 3
   },
   "file_extension": ".py",
   "mimetype": "text/x-python",
   "name": "python",
   "nbconvert_exporter": "python",
   "pygments_lexer": "ipython3",
   "version": "3.9.7"
  }
 },
 "nbformat": 4,
 "nbformat_minor": 5
}
