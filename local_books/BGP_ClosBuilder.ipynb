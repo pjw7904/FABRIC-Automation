{
 "cells": [
  {
   "cell_type": "markdown",
   "id": "3f6e805a-b424-467c-9804-515fc791787e",
   "metadata": {},
   "source": [
    "# BGP Folded-Clos Builder\n",
    "\n",
    "## Overview\n",
    "\n",
    "For building a single-site FABRIC Slice that mirrors the setup of a modern data center network for experimentation. This is accomplished through the following actions:\n",
    "\n",
    "1. Building a folded-Clos topology. The library used for this purpose builds a traditional folded-Clos setup with a 1:1 oversubscription ratio, resulting in a rearrangably nonblocking network.\n",
    "2. Installing the FRRouting implementation of BGP-4 as the network control-plane on the folded-Clos topology.\n",
    "3. Tuning the BGP-4 implementation to be compliant to RFC 7938 - Use of BGP for Routing in Large-Scale Data Centers.\n",
    "\n",
    "<center>\n",
    "    <div>\n",
    "        <img src=\"../figs/bgp_clos_diagram.png\" width=\"650\"/>\n",
    "    </div>\n",
    "</center>\n",
    "\n",
    "## RFC 7938 Compliance\n",
    "\n",
    "| RFC 7938 Section Number | Compliant Functionality                                                                                                                             |   |   |   |\n",
    "|-------------------------|-----------------------------------------------------------------------------------------------------------------------------------------------------|---|---|---|\n",
    "| 5.2.1                   | E-BGP single-hop sessions, no multi-hop or loopback sessions                                                                                        |   |   |   |\n",
    "| 5.2.2                   | A single ASN is allocated to all of the Clos topology's top-tier devices, a single ASN for all pod spines, and individual ASN’s for all leaf nodes. |   |   |   |\n",
    "| 5.2.3                   | Do not advertise any of the point-to-point (switch-to-switch) links into BGP. Only advertise server subnets.                                        |   |   |   |\n",
    "| 5.2.3                   | No route summarization for server subnets.                                                                                                          |   |   |   |\n",
    "| 6.1                     | Basic ECMP is implemented in FRR-BGP.                                                                                                               |   |   |   |"
   ]
  },
  {
   "cell_type": "markdown",
   "id": "3da7fb36-03a4-4fc4-800f-86696114eaec",
   "metadata": {},
   "source": [
    "## Input Required Information\n",
    "\n",
    "### FABRIC Configuration\n",
    "| Variable | Use |\n",
    "| :-- | --- |\n",
    "| SLICE_NAME| Name of slice you want to create. Please make sure a slice with that name does not already exist. |\n",
    "| SITE_NAME| Name of the FABRIC site you want the nodes to be reserved at. This code does not consider inter-site situations, the entire topology is reserved on a single slice. |\n",
    "| MEAS_ADD      | Enter True if measurements are to be taken on the slice. This requires the inclusion of a separate measurement node. If you don't understand how to use the Measurement Framework, don't set this to true. |\n",
    "\n",
    "\n",
    "### Folded-Clos Configuration\n",
    "| Variable | Use |\n",
    "| :-- | --- |\n",
    "| PORTS_PER_DEVICE     | The number of interfaces every networking device will share in the folded-Clos topology. This must be an even number to split the number of interfaces for north and south links. |\n",
    "| NUMBER_OF_TIERS     | The number of tiers the folded-Clos topology will have. It should be 2 or greater. Don't get crazy with the values, FABRIC can only handle so much. |\n",
    "| SINGLE_COMPUTE_SUBNET     | If you want a leaf to only have one compute subnet, then set this to true. Otherwise, all compute nodes off of a leaf will be contained in their own subnet. |\n",
    "| SOUTHBOUND_PORT_DENSITY | If you want to change how many southbound ports are used for a device at a given tier, it needs to be placed in a dictonary with the key being the tier and the value being the updated southbound port density. For example, If I want tier 3 spines to only have 2 southbound ports, I would modify this variable to show {3:2}. |\n",
    "| FRR_SCRIPTS_LOCATION     | The full path to the frr_scripts directory. Don't change the name of the files inside of the directory unless you change it in this book as well. |\n",
    "| TEMPLATE_LOCATION     | The full path to the BGP Mako template. You don't need to understand how Mako works, the book takes care of it. Don't change the name of the files inside of the directory unless you change it in this book as well. |"
   ]
  },
  {
   "cell_type": "code",
   "execution_count": null,
   "id": "3032a7d9-c55a-4b71-84f2-0fc9fc3a9704",
   "metadata": {},
   "outputs": [],
   "source": [
    "# FABRIC Configuration\n",
    "SLICE_NAME = \"2pods\"\n",
    "SITE_NAME = \"NEWY\"\n",
    "MEAS_ADD = False\n",
    "\n",
    "# Folded-Clos Configuration\n",
    "PORTS_PER_DEVICE = 4\n",
    "NUMBER_OF_TIERS = 3\n",
    "SINGLE_COMPUTE_SUBNET = True\n",
    "SOUTHBOUND_PORT_DENSITY = {3:2,1:1}\n",
    "FRR_SCRIPTS_LOCATION = \"/home/fabric/work/custom/FABRIC-Automation/remote_scripts/frr_scripts\"\n",
    "TEMPLATE_LOCATION = \"/home/fabric/work/custom/FABRIC-Automation/remote_scripts/frr_templates/frr_conf_bgp.mako\""
   ]
  },
  {
   "cell_type": "markdown",
   "id": "643785f2-1fb9-4d90-bafe-068a7ffafc6b",
   "metadata": {},
   "source": [
    "## Access the Fablib Library and Confirm Configuration"
   ]
  },
  {
   "cell_type": "code",
   "execution_count": null,
   "id": "05dbe97f-3a25-46d3-9b6b-e3607c31a35f",
   "metadata": {},
   "outputs": [],
   "source": [
    "from fabrictestbed_extensions.fablib.fablib import FablibManager as fablib_manager\n",
    "\n",
    "try: \n",
    "    fablib = fablib_manager()    \n",
    "    fablib.show_config()\n",
    "\n",
    "except Exception as e:\n",
    "    print(f\"Exception: {e}\")"
   ]
  },
  {
   "cell_type": "markdown",
   "id": "b3211ca8-0973-45b9-9650-a30539bfde79",
   "metadata": {},
   "source": [
    "## Build a Graph of the Folded-Clos Topology\n",
    "\n",
    "A custom library, ClosGenerator, is used to build a graph-representation of a folded-Clos topology. BGP-4 configuration is added as attributes to the nodes as the graph is being constructed."
   ]
  },
  {
   "cell_type": "code",
   "execution_count": null,
   "id": "2e0baf1e-2ec7-4d7a-b260-4c8ad00b2b0f",
   "metadata": {},
   "outputs": [],
   "source": [
    "from ClosGenerator import *\n",
    "\n",
    "topology = BGPDCNConfig(PORTS_PER_DEVICE, \n",
    "                        NUMBER_OF_TIERS, \n",
    "                        southboundPortsConfig=SOUTHBOUND_PORT_DENSITY, \n",
    "                        singleComputeSubnet=SINGLE_COMPUTE_SUBNET)\n",
    "topology.buildGraph()\n",
    "\n",
    "print(\"BGP configuration complete\\n\")\n",
    "print(f\"Folded-Clos topology details (Not considering port density changes):\\n{topology.getClosStats()}\")"
   ]
  },
  {
   "cell_type": "markdown",
   "id": "d87aa545-69cd-41bc-b207-22d5a9a57c69",
   "metadata": {},
   "source": [
    "## Prepare the BGP Configuration Template\n",
    "\n",
    "This book uses the Mako template engine to populate BGP-related information into the default FRR configuration file (frr.conf). The per-node BGP configuration is contained in the graph structure built in the prior section. "
   ]
  },
  {
   "cell_type": "code",
   "execution_count": null,
   "id": "d20ad7e3-de29-41b3-ac72-9009c7da21e4",
   "metadata": {},
   "outputs": [],
   "source": [
    "from mako.template import Template\n",
    "\n",
    "try: \n",
    "    bgpTemplate = Template(filename=TEMPLATE_LOCATION)\n",
    "    print(\"FRR-BGP configuration template loaded.\")\n",
    "    \n",
    "except Exception as e:\n",
    "    print(f\"Exception: {e}\")"
   ]
  },
  {
   "cell_type": "markdown",
   "id": "33c4a369-6e10-4f8a-9f5e-422a6f882af0",
   "metadata": {},
   "source": [
    "## Parse the folded-Clos Configuration and Create the Slice"
   ]
  },
  {
   "cell_type": "code",
   "execution_count": null,
   "id": "482e9fac-95dc-4a30-b81e-a5acc14d17dd",
   "metadata": {},
   "outputs": [],
   "source": [
    "import os\n",
    "\n",
    "def addBGPConfiguration(node, nodeInfo, topology, bgpTemplate):\n",
    "    '''\n",
    "    Prepare a node for the FRR BGP-4 implementation to be installed.\n",
    "    '''\n",
    "\n",
    "    # Store information about BGP-speaking neighbors to configure neighborship\n",
    "    neighboringNodes = []\n",
    "    \n",
    "    # Find the node's BGP-speaking neighbors and determine their ASN as well as their IPv4 address used on the subnet shared by the nodes.\n",
    "    for neighbor, addr in topology.getNodeAttribute(node, 'ipv4').items():\n",
    "        if(topology.isNetworkNode(neighbor)):\n",
    "            neighboringNodes.append({'asn':topology.getNodeAttribute(neighbor, 'ASN'), 'ip':topology.getNodeAttribute(neighbor, 'ipv4', node)})\n",
    "\n",
    "    # In addition to storing neighbor information, store any compute subnets that the node must advertise to neighbors (leaf's only).\n",
    "    nodeTemplate = {'neighbors':neighboringNodes, 'bgp_asn': topology.getNodeAttribute(node, 'ASN'), 'networks': topology.getNodeAttribute(node, 'advertise')}\n",
    "\n",
    "    # Process the stored information and render a custom frr.conf.\n",
    "    nodeBGPData = bgpTemplate.render(**nodeTemplate)\n",
    "\n",
    "    # Add FABRIC post-boot tasks to install and execute FRR and the BGP implementation.\n",
    "    nodeInfo.add_post_boot_upload_directory(FRR_SCRIPTS_LOCATION,'.')\n",
    "    nodeInfo.add_post_boot_execute(f'sudo echo -e \"{nodeBGPData}\" > frr_scripts/frr.conf')\n",
    "    nodeInfo.add_post_boot_execute('chmod +x frr_scripts/init_bgp_automated.sh && ./frr_scripts/init_bgp_automated.sh')\n",
    "\n",
    "    return\n",
    "\n",
    "# Create the slice\n",
    "slice = fablib.new_slice(name=SLICE_NAME)\n",
    "\n",
    "addedNodes = {} # Visited nodes structure, format = name : nodeInfo\n",
    "\n",
    "# Iterate over each network in the topology and configure each interface connected to the network, and the network itself.\n",
    "for networkInfo in topology.iterNetwork(fabricFormating=True):\n",
    "    networkIntfs = [] # Interfaces to be added to the network.\n",
    "    network = networkInfo[0] # A tuple containing the nodes on the network.\n",
    "    networkName = networkInfo[1] # The FABRIC network name.\n",
    "\n",
    "    print(f\"Configuring network: {network}\")\n",
    "\n",
    "    # For each node in a given IPv4 subnet within the folded-Clos topology.\n",
    "    for node in network:\n",
    "        # If the node has not yet been visited, provide it with the appropriate configuration.\n",
    "        if(node not in addedNodes):\n",
    "            # Add the node to the FABRIC slice.\n",
    "            nodeInfo = slice.add_node(name=node, cores=1, ram=4, image='default_rocky_8', site=SITE_NAME)\n",
    "\n",
    "            # If the node is a non-compute node, it needs FRR-BGP configuration instructions.\n",
    "            if(topology.isNetworkNode(node)):\n",
    "                addBGPConfiguration(node, nodeInfo, topology, bgpTemplate)\n",
    "\n",
    "            addedNodes[node] = nodeInfo\n",
    "            print(f\"\\tAdded node {node} to the slice.\")\n",
    "\n",
    "        else:\n",
    "            print(f\"\\tAlready added node {node} to the slice.\")\n",
    "\n",
    "        # Create a name for the node's interface connected to this network and add it to the FABRIC slice.\n",
    "        intfName = topology.generateFabricIntfName(node, network)        \n",
    "        netIntf = addedNodes[node].add_component(model='NIC_Basic', name=intfName).get_interfaces()[0]\n",
    "        networkIntfs.append(netIntf)\n",
    "\n",
    "    # Add the network to the FABRIC slice.\n",
    "    slice.add_l2network(name=networkName, interfaces=networkIntfs, type=\"L2Bridge\")\n",
    "    print(f\"\\tAdded network {network}\")"
   ]
  },
  {
   "cell_type": "markdown",
   "id": "6cd7ddea-18fe-4e7b-99fc-13b20ae5c4b7",
   "metadata": {},
   "source": [
    "## Add a Measurement Node (Optional)"
   ]
  },
  {
   "cell_type": "code",
   "execution_count": null,
   "id": "9ec2d25b-80b2-40b7-8141-14d20e5e4035",
   "metadata": {},
   "outputs": [],
   "source": [
    "if(MEAS_ADD):\n",
    "    import mflib \n",
    "    print(f\"MFLib version  {mflib.__version__} \" )\n",
    "\n",
    "    from mflib.mflib import MFLib\n",
    "\n",
    "    # Add measurement node to topology using static method.\n",
    "    MFLib.addMeasNode(slice, disk=100, image='docker_ubuntu_20', site=SITE_NAME)\n",
    "    print(\"Measurement node added.\")\n",
    "\n",
    "else:\n",
    "    print(\"No measurement node added.\")"
   ]
  },
  {
   "cell_type": "markdown",
   "id": "6cd1593b-fee9-49ad-8b9a-59f78be1afc9",
   "metadata": {},
   "source": [
    "## Submit the Slice"
   ]
  },
  {
   "cell_type": "code",
   "execution_count": null,
   "id": "4f437a77-a350-40cc-ab08-402d3cf4bb46",
   "metadata": {},
   "outputs": [],
   "source": [
    "%%time\n",
    "import json \n",
    "\n",
    "try:\n",
    "    # Submit Slice Request\n",
    "    print(f'Submitting the new slice, \"{SLICE_NAME}\"...')\n",
    "    slice.submit()\n",
    "    print(f'{SLICE_NAME} creation done.')\n",
    "\n",
    "except Exception as e:\n",
    "    print(f\"Slice Fail: {e}\")\n",
    "    traceback.print_exc()"
   ]
  },
  {
   "cell_type": "markdown",
   "id": "44713345-cafe-4369-88ed-e0c4febd5164",
   "metadata": {},
   "source": [
    "## Initalize the Measurement Framework (Optional)\n",
    "\n",
    "This step both initalizes and instrumentizes the Measurement framework to use Prometheus and Grafana. If ELK is desired, modifications to the cell need to be made."
   ]
  },
  {
   "cell_type": "code",
   "execution_count": null,
   "id": "2a270f84-43b9-4fc2-bddf-13b3ef6cc9a8",
   "metadata": {},
   "outputs": [],
   "source": [
    "if(MEAS_ADD):\n",
    "    mf = MFLib(SLICE_NAME) # Initalize\n",
    "    instrumetize_results = mf.instrumentize( [\"prometheus\"] ) # Instrumentize\n",
    "    \n",
    "    # Grafana SSH Tunnel Command\n",
    "    print(mf.grafana_tunnel)\n",
    "    print(f\"Browse to https://localhost:{mf.grafana_tunnel_local_port}/grafana/dashboards?query=%2A\")"
   ]
  },
  {
   "cell_type": "markdown",
   "id": "ba0ce41e-0c30-450d-9570-241f3e59cc93",
   "metadata": {},
   "source": [
    "## Add IPv4 Addressing to All Nodes\n",
    "\n",
    "This system utilizes the addressing provided by the ClosGenerator module:\n",
    "\n",
    "* 192.168.0.0/16 is the compute supernet. All compute subnets are given a /24 subnet. Compute devices are given lower addresses (ex: .1) and the leaf node is given a high address (ex: .254)\n",
    "\n",
    "* 172.16.0.0/12 is the core supernet. All core subnets are given a /24 subnet. Both devices are given lower addresses."
   ]
  },
  {
   "cell_type": "code",
   "execution_count": null,
   "id": "18c933bd-05a9-4d77-85ca-28913400fcae",
   "metadata": {},
   "outputs": [],
   "source": [
    "from ipaddress import ip_address, IPv4Address, IPv4Network\n",
    "import re\n",
    "\n",
    "COMPUTE_SUPERNET = \"192.168.0.0/16\"\n",
    "\n",
    "# Iterate through every node in the topology\n",
    "for node in topology.iterNodes():\n",
    "    print(f\"Configuring IPv4 addressing on node: {node}\")\n",
    "    \n",
    "    # Pull IPv4 attribute data to configure FABRIC interfaces\n",
    "    for neighbor, currentAddress in topology.getNodeAttribute(node, 'ipv4').items():\n",
    "        # Access the interface from FABRIC.\n",
    "        intfName = f\"{node}-{node}-intf-{neighbor}-p1\" # Naming is a bit strange, but is formatted in FABRIC as such.\n",
    "        intf = slice.get_interface(intfName)\n",
    "\n",
    "        # Convert the address and subnet into ipaddress objects for FABRIC processing.\n",
    "        fabAddress = IPv4Address(currentAddress)\n",
    "        fabSubnet = IPv4Network(f\"{currentAddress}/24\", strict=False)\n",
    "\n",
    "        # Assign the address to the interface.\n",
    "        intf.ip_addr_add(addr=fabAddress, subnet=fabSubnet)\n",
    "    \n",
    "    # For compute nodes, also add a compute supernet route with its attached leaf node as the next-hop.\n",
    "    if(not topology.isNetworkNode(node)):\n",
    "        IPGroup = re.search(r\"192\\.168\\.([0-9]{1,3})\\.[0-9]{1,3}\", currentAddress) # Grab the third octet number.\n",
    "        thirdOctet = IPGroup.group(1)\n",
    "        nextHop = f\"192.168.{thirdOctet}.254\"\n",
    "\n",
    "        # Add the route to the node\n",
    "        intf.get_node().ip_route_add(subnet=IPv4Network(COMPUTE_SUPERNET), gateway=IPv4Address(nextHop))\n",
    "\n",
    "        print(f\"\\tAdded route to {node}\")\n",
    "    \n",
    "    print(\"\\tConfiguration complete.\")"
   ]
  },
  {
   "cell_type": "markdown",
   "id": "98c785df-77bd-4f7a-b525-87aa335c3717",
   "metadata": {},
   "source": [
    "## Log Topology Information"
   ]
  },
  {
   "cell_type": "code",
   "execution_count": null,
   "id": "0c6e1c2a-84bf-4626-bde0-25f39bd5cb43",
   "metadata": {},
   "outputs": [],
   "source": [
    "topology.logGraphInfo()"
   ]
  }
 ],
 "metadata": {
  "language_info": {
   "name": "python"
  }
 },
 "nbformat": 4,
 "nbformat_minor": 5
}
