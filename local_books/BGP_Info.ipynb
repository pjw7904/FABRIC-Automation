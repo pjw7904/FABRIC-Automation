{
 "cells": [
  {
   "cell_type": "markdown",
   "id": "83d358c8-dfad-4d86-982b-7c56945b02fe",
   "metadata": {},
   "source": [
    "# <span style=\"color: #de4815\"><b>BGP</b></span> DCN Configuration Information\n",
    "\n",
    "Once the BGP DCN configuration has been added, either through the provided book (BGP_ClosBuilder) or manually, this book will provide you with commands to view information about the configuration of individual nodes in the topology."
   ]
  },
  {
   "cell_type": "markdown",
   "id": "30908d0c-4147-49aa-a685-560b433f2fbd",
   "metadata": {},
   "source": [
    "## <span style=\"color: #de4815\"><b>Topology Information</b></span>\n",
    "\n",
    "| Variable | Use |\n",
    "| --- | --- |\n",
    "| SLICE_NAME    | Name of the slice you want to access and observe |\n",
    "| NETWORK_NODE_PREFIXES    | The naming prefix(es) for BGP-speaking nodes |\n",
    "| COMPUTE_NODE_PREFIXES | The naming prefix(es) for compute/non-BGP-speaking nodes |"
   ]
  },
  {
   "cell_type": "code",
   "execution_count": null,
   "id": "2e6afd7a-8b6d-45c3-827f-cc564442e624",
   "metadata": {},
   "outputs": [],
   "source": [
    "SLICE_NAME = \"bgp_bfd\"\n",
    "NETWORK_NODE_PREFIXES = \"T,S,L\"\n",
    "COMPUTE_NODE_PREFIXES = \"C\""
   ]
  },
  {
   "cell_type": "markdown",
   "id": "8a56575b-f0d4-4a9f-bd87-68c00b21b2e2",
   "metadata": {},
   "source": [
    "## <span style=\"color: #de4815\"><b>Access Slice Resources</b></span>\n",
    "\n",
    "The FabOrchestrator class is used to grab information. This is a class that wraps around the underlying FabLib to make certain actions easier to run."
   ]
  },
  {
   "cell_type": "code",
   "execution_count": null,
   "id": "34235e83-5a33-46ac-ba89-34405c5312d8",
   "metadata": {},
   "outputs": [],
   "source": [
    "from FabUtils import FabOrchestrator\n",
    "\n",
    "try:\n",
    "    manager = FabOrchestrator(SLICE_NAME)\n",
    "    \n",
    "except Exception as e:\n",
    "    print(f\"Exception: {e}\")"
   ]
  },
  {
   "cell_type": "markdown",
   "id": "776f3e74-4fde-4c1b-8e9e-b08a14c2b98e",
   "metadata": {},
   "source": [
    "## <span style=\"color: #de4815\"><b>View Routing</b></span>\n",
    "\n",
    "Anything involing how Linux kernel routing table."
   ]
  },
  {
   "cell_type": "code",
   "execution_count": null,
   "id": "90b0f52d-25d6-4d48-aeda-22ba05ba4039",
   "metadata": {},
   "outputs": [],
   "source": [
    "# Grab the IP Routing table from each BGP node.\n",
    "print(\"ROUTING TABLES ON BGP NODES\\n\")\n",
    "\n",
    "routingTableCommand = \"ip route\"\n",
    "manager.executeCommandsParallel(routingTableCommand, prefixList=NETWORK_NODE_PREFIXES)"
   ]
  },
  {
   "cell_type": "code",
   "execution_count": null,
   "id": "8310da04-074e-4913-ab1f-dcd6edf780ec",
   "metadata": {},
   "outputs": [],
   "source": [
    "# Grab the IP Routing table from each compute node.\n",
    "print(\"ROUTING TABLES ON COMPUTE NODES\\n\")\n",
    "\n",
    "routingTableCommand = \"ip route\"\n",
    "manager.executeCommandsParallel(routingTableCommand, prefixList=COMPUTE_NODE_PREFIXES)"
   ]
  },
  {
   "cell_type": "code",
   "execution_count": null,
   "id": "a32965bb-dc3f-4162-92a6-c0cd3fe3113e",
   "metadata": {},
   "outputs": [],
   "source": [
    "# Grab the interface status from each node (regardless of the type of node).\n",
    "print(\"NETWORK INTERFACE STATUS\\n\")\n",
    "\n",
    "intfStatusCmd = \"ip address | grep eth\"\n",
    "manager.executeCommandsParallel(intfStatusCmd, prefixList=NETWORK_NODE_PREFIXES)"
   ]
  },
  {
   "cell_type": "code",
   "execution_count": null,
   "id": "ddc04dc0-35e7-4c4c-a71b-a7b6e9dd349e",
   "metadata": {},
   "outputs": [],
   "source": [
    "# Find any interfaces that are set to down\n",
    "print(\"CHECK IF INTERFACES ARE DOWN\\n\")\n",
    "\n",
    "intfStatusCmd = \"ip address | grep DOWN\"\n",
    "manager.executeCommandsParallel(intfStatusCmd, prefixList=NETWORK_NODE_PREFIXES)"
   ]
  },
  {
   "cell_type": "markdown",
   "id": "12cdee5a-27e7-4999-8a8b-bc7db809f95e",
   "metadata": {},
   "source": [
    "## <span style=\"color: #de4815\"><b>View Configuration</b></span>\n",
    "\n",
    "Anything involving how FRR or a FABRIC book configures the BGP daemon on the slices."
   ]
  },
  {
   "cell_type": "code",
   "execution_count": null,
   "id": "48dbdecf-bf70-46a6-bcd7-61027f4f22b5",
   "metadata": {},
   "outputs": [],
   "source": [
    "outputConfigCommand = 'sudo vtysh -c \"show run\"'\n",
    "manager.executeCommandsParallel(outputConfigCommand, prefixList=NETWORK_NODE_PREFIXES)"
   ]
  },
  {
   "cell_type": "code",
   "execution_count": null,
   "id": "13c0b4f6-16b5-463d-bc15-0803b4281abc",
   "metadata": {},
   "outputs": [],
   "source": [
    "outputConfigCommand = 'ls -alt ~/bgp_scripts'\n",
    "manager.executeCommandsParallel(outputConfigCommand, prefixList=NETWORK_NODE_PREFIXES)"
   ]
  },
  {
   "cell_type": "code",
   "execution_count": null,
   "id": "0d7f9253-fb1e-4581-a3ca-ff072e35dad0",
   "metadata": {},
   "outputs": [],
   "source": [
    "outputConfigCommand = 'ls -alt /var/log/frr'\n",
    "manager.executeCommandsParallel(outputConfigCommand, prefixList=NETWORK_NODE_PREFIXES)"
   ]
  },
  {
   "cell_type": "code",
   "execution_count": null,
   "id": "15e69129-4cb6-4d1e-96a4-5ccf09002dc7",
   "metadata": {},
   "outputs": [],
   "source": [
    "outputConfigCommand = 'tmux kill-session -t bgp'\n",
    "manager.executeCommandsParallel(outputConfigCommand, prefixList=NETWORK_NODE_PREFIXES)"
   ]
  },
  {
   "cell_type": "code",
   "execution_count": null,
   "id": "056e0859-414e-4ff0-aae8-a758f1ea842d",
   "metadata": {},
   "outputs": [],
   "source": [
    "outputConfigCommand = 'sudo pkill tshark'\n",
    "manager.executeCommandsParallel(outputConfigCommand, prefixList=NETWORK_NODE_PREFIXES)"
   ]
  },
  {
   "cell_type": "code",
   "execution_count": null,
   "id": "42cb71fe-0745-449e-9989-27bba2dd9ebe",
   "metadata": {},
   "outputs": [],
   "source": [
    "outputConfigCommand = 'tmux ls'\n",
    "manager.executeCommandsParallel(outputConfigCommand, prefixList=NETWORK_NODE_PREFIXES)"
   ]
  },
  {
   "cell_type": "code",
   "execution_count": null,
   "id": "ce9c1648-78b5-44d0-bde7-c932f81c64ed",
   "metadata": {},
   "outputs": [],
   "source": [
    "outputConfigCommand = 'ps aux | grep bash'\n",
    "manager.executeCommandsParallel(outputConfigCommand, prefixList=NETWORK_NODE_PREFIXES)"
   ]
  },
  {
   "cell_type": "markdown",
   "id": "55e32c31-9736-4d7e-9999-eab977731a45",
   "metadata": {},
   "source": [
    "## <span style=\"color: #de4815\"><b>Modify Configuration - BGP & BGP Testing</b></span>\n",
    "\n",
    "<b>WARNING</b>: This will potentially modify how BGP or the BGP testing suite operates. Only run these if you need to make that specific change, you shouldn't run anything in this section just to try it out. If something breaks, you'll need to find a way back by adding additional commands here or by manual reconfiguration."
   ]
  },
  {
   "cell_type": "code",
   "execution_count": null,
   "id": "c11c2f34-bb39-4dac-831e-aa3c3c7ff8a6",
   "metadata": {},
   "outputs": [],
   "source": [
    "# Uploading the (local) bgp_scripts directory\n",
    "manager.uploadDirectoryParallel(\"/home/fabric/work/custom/FABRIC-Automation/remote_scripts/bgp_scripts\", prefixList=NETWORK_NODE_PREFIXES)"
   ]
  },
  {
   "cell_type": "code",
   "execution_count": null,
   "id": "c82a939e-adc2-4930-8ad6-740f011c330a",
   "metadata": {},
   "outputs": [],
   "source": [
    "# Updating permission of scripts in the (remote) bgp_scripts directory\n",
    "manager.executeCommandsParallel('chmod +x /home/rocky/bgp_scripts/*.sh ; chmod +x /home/rocky/bgp_scripts/*.py', prefixList=NETWORK_NODE_PREFIXES)"
   ]
  },
  {
   "cell_type": "markdown",
   "id": "2fbd57d0-9b8e-4832-bb6d-c6bcd611b1a7",
   "metadata": {},
   "source": [
    "## <span style=\"color: #de4815\"><b>Modify Configuration - BFD</b></span>\n",
    "\n",
    "<b>WARNING</b>: This will potentially modify how BFD "
   ]
  },
  {
   "cell_type": "code",
   "execution_count": null,
   "id": "156441f4-eacf-4fc1-a126-334a63ca0f28",
   "metadata": {},
   "outputs": [],
   "source": [
    "# Disable BFD\n",
    "manager.executeCommandsParallel('sudo vtysh -c \"conf t\" -c \"bfd\" -c \"profile lowerIntervals\" -c \"shutdown\"', prefixList=NETWORK_NODE_PREFIXES)"
   ]
  },
  {
   "cell_type": "code",
   "execution_count": null,
   "id": "e12f90cb-f285-4c28-9160-74813dfe4f49",
   "metadata": {},
   "outputs": [],
   "source": [
    "# Enable BFD \n",
    "manager.executeCommandsParallel('sudo vtysh -c \"conf t\" -c \"bfd\" -c \"profile lowerIntervals\" -c \"no shutdown\"', prefixList=NETWORK_NODE_PREFIXES)"
   ]
  },
  {
   "cell_type": "markdown",
   "id": "8b5bd407-17d0-45e9-ba8f-8bdbe8026a94",
   "metadata": {},
   "source": [
    "## <span style=\"color: #de4815\"><b>View Logging</b></span>\n",
    "\n",
    "The Clos Builder script logs all BGP UPDATE events to /var/log/bgpd.log"
   ]
  },
  {
   "cell_type": "code",
   "execution_count": null,
   "id": "b67be8d5-8aa8-4ecf-a1ba-ace3fccea6dc",
   "metadata": {},
   "outputs": [],
   "source": [
    "# Grab the IP Routing table from each BGP node.\n",
    "print(\"LOG ENTRIES\\n\")\n",
    "\n",
    "routingTableEntry = \"PAPP6-VDAWM\"\n",
    "routingTableCommand = f\"sudo cat /var/log/frr/bgpd.log | grep {routingTableEntry}\"\n",
    "manager.executeCommandsParallel(routingTableCommand, prefixList=NETWORK_NODE_PREFIXES)"
   ]
  }
 ],
 "metadata": {
  "language_info": {
   "name": "python"
  }
 },
 "nbformat": 4,
 "nbformat_minor": 5
}
