{
 "cells": [
  {
   "cell_type": "markdown",
   "id": "83d358c8-dfad-4d86-982b-7c56945b02fe",
   "metadata": {},
   "source": [
    "# BGP DCN Configuration Information\n",
    "\n",
    "Once the BGP DCN configuration has been added, either through the provided book (BGP_ClosBuilder) or manually, this book will provide you with commands to view information about the configuration of individual nodes in the topology."
   ]
  },
  {
   "cell_type": "markdown",
   "id": "30908d0c-4147-49aa-a685-560b433f2fbd",
   "metadata": {},
   "source": [
    "## Topology Information\n",
    "\n",
    "| Variable | Use |\n",
    "| --- | --- |\n",
    "| SLICE_NAME    | Name of the slice you want to access and observe |\n",
    "| NETWORK_NODE_PREFIXES    | The naming prefix(es) for BGP-speaking nodes |\n",
    "| COMPUTE_NODE_PREFIXES | The naming prefix(es) for compute/non-BGP-speaking nodes |"
   ]
  },
  {
   "cell_type": "code",
   "execution_count": null,
   "id": "2e6afd7a-8b6d-45c3-827f-cc564442e624",
   "metadata": {},
   "outputs": [],
   "source": [
    "SLICE_NAME = \"testing_2pods_bgp\"\n",
    "NETWORK_NODE_PREFIXES = \"T,S,L\"\n",
    "COMPUTE_NODE_PREFIXES = \"C\""
   ]
  },
  {
   "cell_type": "markdown",
   "id": "8a56575b-f0d4-4a9f-bd87-68c00b21b2e2",
   "metadata": {},
   "source": [
    "## Access Slice Resources\n",
    "\n",
    "The FabOrchestrator class is used to grab information. This is a class that wraps around the underlying FabLib to make certain actions easier to run."
   ]
  },
  {
   "cell_type": "code",
   "execution_count": null,
   "id": "34235e83-5a33-46ac-ba89-34405c5312d8",
   "metadata": {},
   "outputs": [],
   "source": [
    "from FabUtils import FabOrchestrator\n",
    "\n",
    "try:\n",
    "    manager = FabOrchestrator(SLICE_NAME)\n",
    "    \n",
    "except Exception as e:\n",
    "    print(f\"Exception: {e}\")"
   ]
  },
  {
   "cell_type": "markdown",
   "id": "776f3e74-4fde-4c1b-8e9e-b08a14c2b98e",
   "metadata": {},
   "source": [
    "## Routing\n",
    "\n",
    "Anything involing how the Linux kernel routing table or the FRR BGP RIBs are modified due to configuration changes."
   ]
  },
  {
   "cell_type": "code",
   "execution_count": null,
   "id": "90b0f52d-25d6-4d48-aeda-22ba05ba4039",
   "metadata": {},
   "outputs": [],
   "source": [
    "# Grab the IP Routing table from each BGP node.\n",
    "print(\"ROUTING TABLES ON BGP NODES\\n\")\n",
    "\n",
    "routingTableCommand = \"ip route\"\n",
    "manager.executeCommandsParallel(routingTableCommand, prefixList=NETWORK_NODE_PREFIXES)"
   ]
  },
  {
   "cell_type": "code",
   "execution_count": null,
   "id": "8310da04-074e-4913-ab1f-dcd6edf780ec",
   "metadata": {},
   "outputs": [],
   "source": [
    "# Grab the IP Routing table from each BGP node.\n",
    "print(\"ROUTING TABLES ON COMPUTE NODES\\n\")\n",
    "\n",
    "routingTableCommand = \"ip route\"\n",
    "manager.executeCommandsParallel(routingTableCommand, prefixList=COMPUTE_NODE_PREFIXES)"
   ]
  },
  {
   "cell_type": "markdown",
   "id": "12cdee5a-27e7-4999-8a8b-bc7db809f95e",
   "metadata": {},
   "source": [
    "## Configuration\n",
    "\n",
    "Anything involving how FRR configures the BGP process on the slices."
   ]
  },
  {
   "cell_type": "code",
   "execution_count": null,
   "id": "48dbdecf-bf70-46a6-bcd7-61027f4f22b5",
   "metadata": {},
   "outputs": [],
   "source": [
    "outputConfigCommand = 'sudo vtysh -c \"show run\"'\n",
    "manager.executeCommandsParallel(outputConfigCommand, prefixList=NETWORK_NODE_PREFIXES)"
   ]
  }
 ],
 "metadata": {
  "language_info": {
   "name": "python"
  }
 },
 "nbformat": 4,
 "nbformat_minor": 5
}
