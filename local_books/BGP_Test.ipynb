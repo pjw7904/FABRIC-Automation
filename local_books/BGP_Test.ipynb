{
 "cells": [
  {
   "cell_type": "markdown",
   "id": "ecdb57f5-13c1-46d0-9cdd-76e80b48afca",
   "metadata": {},
   "source": [
    "# BGP Reconvergence Experiment"
   ]
  },
  {
   "cell_type": "markdown",
   "id": "d289d069-a458-4882-a257-26832e76b3d0",
   "metadata": {},
   "source": [
    "A BGP experiment consists of turning off an active control interface (i.e., not an interface on a compute node or an interface on a leaf attached to a compute subnet). The resulting behavior from the generated BGP UPDATE messages that withdraw the necessary routes are collected via:\n",
    "    \n",
    "1. log files to show how the FRR BGP implementation handles the updates.\n",
    "2. Packet captures that collect the BGP UPDATE messages that the BGP implementation uses to make modifications.\n",
    "\n",
    "The steps this book takes are as follows:\n",
    "\n",
    "1. <span style=\"color: #de4815\"><b>Store test infrastructure information</b></span>\n",
    "\n",
    "2. <span style=\"color: #de4815\"><b>Clear all existing bgpd (FRR BGP-4 daemon) logs</b></span>\n",
    "---\n",
    "```bash\n",
    "sudo truncate -s 0 /location/of/frr/bgpd/log # Delete the bgpd UPDATE log entries\n",
    "sudo rm /location/of/scripts/captures        # Delete the bgpd traffic entries\n",
    "sudo rm /location/of/scripts/logs            # Delete additional bgpd-related logs\n",
    "```\n",
    "---\n",
    "\n",
    "3. <span style=\"color: #de4815\"><b>Bring the interface down.</b></span>\n",
    "\n",
    "This can be acomplished in two different ways, either by already knowing the interface name (ethX), or querying FABRIC to determine the interface name.\n",
    "\n",
    "---\n",
    "```bash\n",
    "sudo ip link set dev ethX down # X = interface number (ex: X = 1, eth1)\n",
    "```\n",
    "---\n",
    "\n",
    "4. <span style=\"color: #de4815\"><b>Collect the logs</b></span>\n",
    "---\n",
    "```bash\n",
    "# Route withdraw\n",
    "2024/04/13 19:57:01.336 BGP: [PAPP6-VDAWM] 172.16.8.1(S-1-1) rcvd UPDATE about 192.168.2.0/24 IPv4 unicast -- withdrawn\n",
    "\n",
    "# Route announcement?\n",
    "2024/04/13 19:56:58.639 BGP: [Z38CW-7NYWG] group_announce_route_walkcb: afi=IPv4, safi=unicast, p=192.168.3.0/24\n",
    "```\n",
    "---"
   ]
  },
  {
   "cell_type": "markdown",
   "id": "f84d7741-fe16-40c6-a468-9c3fbb3f418d",
   "metadata": {},
   "source": [
    "## Infrastructure Information"
   ]
  },
  {
   "cell_type": "code",
   "execution_count": null,
   "id": "e65a4527-0d86-4cab-8512-a69e6c14dd48",
   "metadata": {},
   "outputs": [],
   "source": [
    "# Slice information\n",
    "SLICE_NAME = \"1pod_test_bgp\"\n",
    "NETWORK_NODE_PREFIXES = \"T,S,L\"\n",
    "COMPUTE_NODE_PREFIXES = \"C\"\n",
    "\n",
    "# Failure point\n",
    "NODE_TO_FAIL_INTF = \"L-1\"\n",
    "NEIGHBOR_LOST = \"T-1\"\n",
    "INTF_NAME_KNOWN = True\n",
    "INTF_NAME = \"eth3\"\n",
    "\n",
    "# Local directory location (where to download remote logs)\n",
    "LOG_DIR_PATH = \"../logs/a_test_logs\""
   ]
  },
  {
   "cell_type": "code",
   "execution_count": null,
   "id": "79759047-02cf-43ce-a219-ca2c96e0d795",
   "metadata": {},
   "outputs": [],
   "source": [
    "import os\n",
    "import time\n",
    "\n",
    "# Remote log locations\n",
    "lOG_FRR_NAME = \"/var/log/frr/bgpd.log\"\n",
    "LOG_CAP_NAME = \"/home/rocky/bgp_scripts/bgp_update_only.pcap\"\n",
    "LOG_OVERHEAD_NAME = \"/home/rocky/bgp_scripts/overhead.log\"\n",
    "LOG_INTF_DOWN_NAME = \"/home/rocky/bgp_scripts/intf_down.log\"\n",
    "# TRAFFIC_RESULTS\n",
    "\n",
    "# If the logs directory does not already exist, create it\n",
    "subdirs = [\"captures\", \"overhead\", \"convergence\", \"traffic\"]\n",
    "if not os.path.exists(LOG_DIR_PATH):\n",
    "    for subdir in subdirs:\n",
    "        os.makedirs(os.path.join(LOG_DIR_PATH, subdir)) "
   ]
  },
  {
   "cell_type": "code",
   "execution_count": null,
   "id": "008dc761-6329-495b-9a23-e6e93ab07a7d",
   "metadata": {},
   "outputs": [],
   "source": [
    "from FabUtils import FabOrchestrator\n",
    "\n",
    "try:\n",
    "    manager = FabOrchestrator(SLICE_NAME)\n",
    "    \n",
    "except Exception as e:\n",
    "    print(f\"Exception: {e}\")"
   ]
  },
  {
   "cell_type": "markdown",
   "id": "b63932e9-c7d9-4648-8e77-0b02302a1c78",
   "metadata": {},
   "source": [
    "## Run Experiment"
   ]
  },
  {
   "cell_type": "code",
   "execution_count": null,
   "id": "40876c6d-35a9-4587-80a9-00904edb55b7",
   "metadata": {},
   "outputs": [],
   "source": [
    "if(INTF_NAME_KNOWN):\n",
    "    intfName = INTF_NAME\n",
    "else:\n",
    "    fabricIntf = manager.slice.get_interface(f\"{NODE_TO_FAIL_INTF}-intf-{NEIGHBOR_LOST}-p1\")\n",
    "    intfName = fabricIntf.get_device_name()"
   ]
  },
  {
   "cell_type": "code",
   "execution_count": null,
   "id": "9b4f58e5-f423-4b7e-8f79-1b783a092d06",
   "metadata": {},
   "outputs": [],
   "source": [
    "# Start data collection for all nodes minus the one that is being failed.\n",
    "startLoggingCmd = \"bash ~/bgp_scripts/bgp_data_collection.sh\"\n",
    "manager.executeCommandsParallel(startLoggingCmd, prefixList=NETWORK_NODE_PREFIXES, excludedList=NODE_TO_FAIL_INTF)\n",
    "\n",
    "startLoggingCmd = f\"bash ~/bgp_scripts/bgp_data_collection.sh {intfName}\"\n",
    "manager.executeCommandsParallel(startLoggingCmd, prefixList=NODE_TO_FAIL_INTF)\n",
    "\n",
    "print(\"BGP data collection started.\")"
   ]
  },
  {
   "cell_type": "code",
   "execution_count": null,
   "id": "91499478-aa35-403d-a4ce-26f5905e5a65",
   "metadata": {},
   "outputs": [],
   "source": [
    "print(\"Giving the nodes time to get configured...\")\n",
    "time.sleep(10)"
   ]
  },
  {
   "cell_type": "code",
   "execution_count": null,
   "id": "d5114969-e983-4c38-a3f8-c48dbf40e857",
   "metadata": {},
   "outputs": [],
   "source": [
    "failIntfCmd = f\"bash /home/rocky/bgp_scripts/intf_down.sh {intfName}\"\n",
    "\n",
    "# Run this command only on node NODE_TO_FAIL_INTF \n",
    "manager.executeCommandsParallel(failIntfCmd, prefixList=NODE_TO_FAIL_INTF)"
   ]
  },
  {
   "cell_type": "code",
   "execution_count": null,
   "id": "4305d534-e4ce-4983-9714-9d40d1c53fff",
   "metadata": {},
   "outputs": [],
   "source": [
    "print(\"Giving the nodes time to get reconverged...\")\n",
    "time.sleep(10)"
   ]
  },
  {
   "cell_type": "code",
   "execution_count": null,
   "id": "80ad70c5-0bf4-4c49-bed6-200a5ca32738",
   "metadata": {},
   "outputs": [],
   "source": [
    "stopLoggingCmd = \"tmux kill-session -t bgp\"\n",
    "manager.executeCommandsParallel(stopLoggingCmd, prefixList=NETWORK_NODE_PREFIXES)\n",
    "print(\"BGP data collection stopped.\")"
   ]
  },
  {
   "cell_type": "code",
   "execution_count": null,
   "id": "764e70f1-050e-4e3b-8cb0-8d379a625f48",
   "metadata": {},
   "outputs": [],
   "source": [
    "print(\"Giving the nodes time to process BGP information...\")\n",
    "time.sleep(30)"
   ]
  },
  {
   "cell_type": "markdown",
   "id": "e295afec-19e4-43d0-8815-0e5e4ab55424",
   "metadata": {},
   "source": [
    "## Collect Logs"
   ]
  },
  {
   "cell_type": "code",
   "execution_count": null,
   "id": "e90b71eb-a320-44ee-ac6f-ddd6fb9cc991",
   "metadata": {},
   "outputs": [],
   "source": [
    "# Download BGP message capture file.\n",
    "manager.downloadFilesParallel(os.path.join(LOG_DIR_PATH, \"captures\", \"{name}_update.pcap\"), \n",
    "                              LOG_CAP_NAME, prefixList=NETWORK_NODE_PREFIXES, addNodeName=True)\n",
    "\n",
    "# Download BGP traffic overhead analysis file.\n",
    "manager.downloadFilesParallel(os.path.join(LOG_DIR_PATH, \"overhead\", \"{name}_overhead.log\"), \n",
    "                              LOG_OVERHEAD_NAME, prefixList=NETWORK_NODE_PREFIXES, addNodeName=True)\n",
    "\n",
    "# Download FRR log file.\n",
    "manager.downloadFilesParallel(os.path.join(LOG_DIR_PATH, \"convergence\", \"{name}_frr.log\"), \n",
    "                              lOG_FRR_NAME, prefixList=NETWORK_NODE_PREFIXES, addNodeName=True)\n",
    "\n",
    "# Download the interface downtime log.\n",
    "manager.downloadFilesParallel(os.path.join(LOG_DIR_PATH, \"convergence\", \"intf_down.log\"), \n",
    "                              LOG_INTF_DOWN_NAME, prefixList=NODE_TO_FAIL_INTF)"
   ]
  },
  {
   "cell_type": "markdown",
   "id": "002817d2-5cbc-42ed-a2f8-1fe9c96974be",
   "metadata": {},
   "source": [
    "## Cleanup"
   ]
  },
  {
   "cell_type": "code",
   "execution_count": null,
   "id": "86bf3834-b83b-489e-947f-b15ff878d806",
   "metadata": {},
   "outputs": [],
   "source": [
    "# Bring the interface back up.\n",
    "restoreIntfCmd = f\"sudo ip link set dev {intfName} up\"\n",
    "\n",
    "# Run this command only on node NODE_TO_FAIL_INTF \n",
    "manager.executeCommandsParallel(restoreIntfCmd, prefixList=NODE_TO_FAIL_INTF)"
   ]
  }
 ],
 "metadata": {
  "language_info": {
   "name": "python"
  }
 },
 "nbformat": 4,
 "nbformat_minor": 5
}
