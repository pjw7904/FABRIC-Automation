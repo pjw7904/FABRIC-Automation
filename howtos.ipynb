{
 "cells": [
  {
   "cell_type": "markdown",
   "id": "3f6e805a-b424-467c-9804-515fc791787e",
   "metadata": {
    "tags": []
   },
   "source": [
    "# Basic Actions in FABRIC That I was Able to do in GENI (and more!)\n",
    "\n",
    "Everything listed here can be found in the FABlib API documentation:\n",
    "https://fabric-fablib.readthedocs.io/en/latest/index.html"
   ]
  },
  {
   "cell_type": "markdown",
   "id": "d0a3276a-84ca-4855-b708-b1da136be80f",
   "metadata": {},
   "source": [
    "## Active Slice and Node Information for Testing of Actions"
   ]
  },
  {
   "cell_type": "code",
   "execution_count": null,
   "id": "f3a839b3-a48a-4c7f-a4e3-6d360e857bc5",
   "metadata": {},
   "outputs": [],
   "source": [
    "# Constants to change if you want to test stuff\n",
    "SLICE_NAME = \"Clos\"\n",
    "NODE_NAME = \"L1\"\n",
    "NODE2_NAME = \"S1\""
   ]
  },
  {
   "cell_type": "markdown",
   "id": "643785f2-1fb9-4d90-bafe-068a7ffafc6b",
   "metadata": {
    "tags": []
   },
   "source": [
    "## Importing the FABlib Library"
   ]
  },
  {
   "cell_type": "raw",
   "id": "d9a8bb0c-7f12-4498-8573-67d55476b556",
   "metadata": {},
   "source": [
    "from fabrictestbed_extensions.fablib.fablib import FablibManager as fablib_manager\n",
    "\n",
    "try: \n",
    "    fablib = fablib_manager()\n",
    "                     \n",
    "    fablib.show_config()\n",
    "except Exception as e:\n",
    "    print(f\"Exception: {e}\")"
   ]
  },
  {
   "cell_type": "markdown",
   "id": "9af11654-d235-4541-a82d-00eb02dfe1d3",
   "metadata": {},
   "source": [
    "## Creating a New Slice and Saving it to be Recreated later"
   ]
  },
  {
   "cell_type": "raw",
   "id": "33d6aea0-da26-48af-a3f8-a6a02caaf59d",
   "metadata": {},
   "source": [
    "# Creates a new slice, after importing fablib\n",
    "slice = fablib.new_slice(name=SLICE_NAME)\n",
    "\n",
    "# Save the RSPEC as a graphml file to reuse later\n",
    "slice.save(f'{SLICE_NAME}_RSPEC.graphml')\n",
    "\n",
    "# Load a previously-saved RSPEC graphml file to use for a new slice identical to the old one\n",
    "slice.load(f'{SLICE_NAME}_RSPEC.graphml')\n",
    "\n",
    "# Have the slice be created by FABRIC\n",
    "slice.submit()"
   ]
  },
  {
   "cell_type": "markdown",
   "id": "473a325f-523a-442e-9b63-b6f0b7b5ec9d",
   "metadata": {
    "tags": []
   },
   "source": [
    "## Getting Access to the Slice Object"
   ]
  },
  {
   "cell_type": "raw",
   "id": "3bc2f7c7-3e8e-439f-8804-59be7dcfcc9d",
   "metadata": {},
   "source": [
    "try:\n",
    "    slice = fablib.get_slice(SLICE_NAME)\n",
    "    slice.show()\n",
    "\n",
    "except Exception as e:\n",
    "    print(f\"Exception: {e}\")"
   ]
  },
  {
   "cell_type": "markdown",
   "id": "e824b782-00e4-4808-b852-3758cf1a8853",
   "metadata": {},
   "source": [
    "## Getting Access to a Specific Node Object of an Already-Accessable Slice Object"
   ]
  },
  {
   "cell_type": "raw",
   "id": "979e6bef-e977-4f57-b255-d890b0bd3390",
   "metadata": {},
   "source": [
    "try:\n",
    "    # The object slice needs to already have been saved prior to this command. You cannot access a node when you don't know the slice.\n",
    "    node = slice.get_node(name=NODE_NAME)\n",
    "    \n",
    "    # the show command just gives some information about the node, you don't have to do this, it's just an example action that you can use with a Node object\n",
    "    node.show()\n",
    "\n",
    "except Exception as e:\n",
    "    print(f\"Exception: {e}\")"
   ]
  },
  {
   "cell_type": "markdown",
   "id": "2408da12-2972-4cb1-9b0b-7131a60aa320",
   "metadata": {},
   "source": [
    "## Getting Access to a List of all the Node Objects in the Slice"
   ]
  },
  {
   "cell_type": "raw",
   "id": "de0be592-c7bd-4ffb-a795-02513e69bcb9",
   "metadata": {},
   "source": [
    "try:\n",
    "    # The object slice needs to already have been saved prior to this command. You cannot access a node when you don't know the slice.\n",
    "    nodeList = slice.get_nodes()\n",
    "    \n",
    "    for node in nodeList:\n",
    "        node.show()\n",
    "\n",
    "except Exception as e:\n",
    "    print(f\"Exception: {e}\")"
   ]
  },
  {
   "cell_type": "markdown",
   "id": "be5b679b-394b-4a0b-9161-c6d13a1e0536",
   "metadata": {},
   "source": [
    "## Getting the SSH Command for a Specific Node"
   ]
  },
  {
   "cell_type": "raw",
   "id": "c57d8d95-e00c-49ab-b66d-08767d87280e",
   "metadata": {},
   "source": [
    "# Get the SSH command\n",
    "try:\n",
    "    print(f\"SSH Command: {node.get_ssh_command()}\")\n",
    "except Exception as e:\n",
    "    print(f\"Exception: {e}\")"
   ]
  },
  {
   "cell_type": "markdown",
   "id": "27ca3020-2146-4f7a-87b5-e8aa275aeb9b",
   "metadata": {},
   "source": [
    "## Execute a Command on a Remote Node (Serial)"
   ]
  },
  {
   "cell_type": "raw",
   "id": "56b91844-7801-4fc8-89b2-0e51cfa55016",
   "metadata": {},
   "source": [
    "try:\n",
    "    node = slice.get_node(name=NODE_NAME)\n",
    "    \n",
    "    # Print the content of the root directory, for example\n",
    "    command = \"ls -l /\"\n",
    "    command2 = \"ip addr\"\n",
    "    \n",
    "    # It will print the content out without returning to stdout and stderr, but you can save those for later if you'd like. If you only want to print what is returned and not double up on the output, add the parameter quiet=True\n",
    "    stdout, stderr = node.execute(command)\n",
    "\n",
    "    print(f\"stdout: {stdout}\")\n",
    "    print(f\"stderr: {stderr}\")\n",
    "    \n",
    "    stdout, stderr = node.execute(command2, quiet=True)\n",
    "\n",
    "    print(f\"stdout: {stdout}\")\n",
    "    print(f\"stderr: {stderr}\")\n",
    "    \n",
    "    # You can also append the results to a file! Emphasis on append, it will not overwrite the file.\n",
    "    node.execute(command, output_file=\"output.log\")\n",
    "    \n",
    "    \n",
    "except Exception as e:\n",
    "    print(f\"Exception: {e}\")"
   ]
  },
  {
   "cell_type": "markdown",
   "id": "e6e48d60-fadc-418c-9b9c-139bd8c1281d",
   "metadata": {},
   "source": [
    "## Execute a Command on a Remote Node (Parallel)\n",
    "\n",
    "The `node.execute_thread` method will execute a command in a thread. When the command completes, the stdout and stderr tuple is returned by a blocking call to  `thread.result()`.  \n",
    "\n",
    "Threaded execution is useful for configuring multiple FABRIC nodes in parallel.  Setting a unique file for each parallel configuration thread is The `output_file` is particularly useful for watching the progress of configuration running in parallel."
   ]
  },
  {
   "cell_type": "raw",
   "id": "dc08bbe5-7c9e-489d-a3dd-27e9eb04e19d",
   "metadata": {},
   "source": [
    "try:\n",
    "    node1 = slice.get_node(name=NODE_NAME)\n",
    "    node2 = slice.get_node(name=NODE2_NAME)\n",
    "    \n",
    "    command = \"ls -l /\"\n",
    "\n",
    "    node1_thread = node1.execute_thread(command, output_file=\"node1_output.log\")\n",
    "    node2_thread = node2.execute_thread(command, output_file=\"node2_output.log\")\n",
    "    \n",
    "    print(\"all set!\")\n",
    "    \n",
    "    stdout1, stderr1 = node1_thread.result()\n",
    "    stdout2, stderr2 = node2_thread.result()\n",
    "\n",
    "    print(f\"stdout1: {stdout1}\")\n",
    "    print(f\"stderr1: {stderr1}\")\n",
    "    print(f\"stdout2: {stdout2}\")\n",
    "    print(f\"stderr2: {stderr2}\")\n",
    "    \n",
    "    \n",
    "except Exception as e:\n",
    "    print(f\"Exception: {e}\")"
   ]
  },
  {
   "cell_type": "markdown",
   "id": "fbdc2a60-c51a-49ac-997c-7a2ac55066a1",
   "metadata": {},
   "source": [
    "## Upload files to Remote Nodes (Parallel)"
   ]
  },
  {
   "cell_type": "raw",
   "id": "861d172c-a8d2-4fcd-9f00-17b959668e8f",
   "metadata": {},
   "source": [
    "# Example given is uploading files in parallel by getting access to all nodes then sending some random file.\n",
    "try:\n",
    "    nodeList = slice.get_nodes()\n",
    "    threadDict = {}\n",
    "    \n",
    "    for node in nodeList:\n",
    "        nodeName = node.get_name()\n",
    "        \n",
    "        uploadThread = node.upload_file_thread(local_file_path=\"diditwork.txt\", remote_file_path=f'diditwork_{nodeName}.txt')\n",
    "        threadDict[nodeName] = uploadThread\n",
    "        \n",
    "        print(f'{nodeName} thread uploading file')\n",
    "                                \n",
    "    for nodeName, uploadThread in threadDict.items():\n",
    "        print(nodeName)\n",
    "        output = uploadThread.result()\n",
    "        print(output)\n",
    "        \n",
    "    # You can also upload a directory in the same way: upload_directory(), upload_directory_thread()\n",
    "        \n",
    "except Exception as e:\n",
    "    print(f\"Exception: {e}\")"
   ]
  },
  {
   "cell_type": "markdown",
   "id": "841a03ae-6dd1-484c-9255-75bcfcb78f9f",
   "metadata": {},
   "source": [
    "## Download files to Remote Nodes (Parallel)"
   ]
  },
  {
   "cell_type": "raw",
   "id": "7a884f3a-3c13-4e45-9900-cd5ae60722af",
   "metadata": {},
   "source": [
    "# Example given is downloading files in parallel by getting access to all nodes then grabbing some given file.\n",
    "try:\n",
    "    nodeList = slice.get_nodes()\n",
    "    threadDict = {}\n",
    "    \n",
    "    for node in nodeList:\n",
    "        nodeName = node.get_name()\n",
    "        \n",
    "        downloadThread = node.download_file_thread(local_file_path=f\"diditwork_{nodeName}.txt\", remote_file_path=f'diditwork_{nodeName}.txt')\n",
    "        threadDict[nodeName] = downloadThread\n",
    "        \n",
    "        print(f'{nodeName} thread downloading file')\n",
    "                        \n",
    "        \n",
    "except Exception as e:\n",
    "    print(f\"Exception: {e}\")"
   ]
  },
  {
   "cell_type": "markdown",
   "id": "8556d005-0923-4288-9b46-d472e4e576e9",
   "metadata": {},
   "source": [
    "## Renewing a Slice"
   ]
  },
  {
   "cell_type": "raw",
   "id": "828d53f1-8b96-4269-bfd2-9ee18dcb85a0",
   "metadata": {},
   "source": [
    "# The days part is how many days in the future you want to push the reservation out to. In this example, the new experation date will be 7 days from now.\n",
    "end_date = (datetime.datetime.now() + datetime.timedelta(days=7)).strftime(\"%Y-%m-%d %H:%M:%S %z\")\n",
    "\n",
    "# This is for the %z part\n",
    "end_date = end_date + \"+0000\"\n",
    "\n",
    "# Send in the renewal request\n",
    "slice.renew(end_date)"
   ]
  },
  {
   "cell_type": "markdown",
   "id": "ea10d447-59cd-4147-9226-1d18eed35af0",
   "metadata": {},
   "source": [
    "## Getting Access to Networks and Interfaces"
   ]
  },
  {
   "cell_type": "raw",
   "id": "fb5371e0-e421-45d7-aae6-73d556155333",
   "metadata": {},
   "source": [
    ">>> networks = slice.get_networks()\n",
    ">>> for network in networks:\n",
    "...   print(network.get_name())\n",
    "...   for intf in network.get_interfaces():\n",
    "...     print(f\"\\t{intf.get_name()}\")\n",
    "...     print(f\"\\t{intf.get_device_name()}\")\n",
    "... \n",
    "link_L1_S1\n",
    "        S1-S1_eth1-p1\n",
    "        eth1\n",
    "        L1-L1_eth1-p1\n",
    "        eth2\n",
    "link_L1_S2\n",
    "        L1-L1_eth2-p1\n",
    "        eth3\n",
    "        S2-S2_eth1-p1\n",
    "        eth2\n",
    "link_L2_S1\n",
    "        L2-L2_eth1-p1\n",
    "        eth2\n",
    "        S1-S1_eth2-p1\n",
    "        eth2\n",
    "link_L2_S2\n",
    "        S2-S2_eth2-p1\n",
    "        eth1\n",
    "        L2-L2_eth2-p1\n",
    "        eth3\n",
    "link_C1_L1\n",
    "        C1-C1_eth1-p1\n",
    "        eth1\n",
    "        L1-L1_eth3-p1\n",
    "        eth1\n",
    "link_C2_L2\n",
    "        C2-C2_eth1-p1\n",
    "        eth1\n",
    "        L2-L2_eth3-p1\n",
    "        eth1"
   ]
  }
 ],
 "metadata": {
  "kernelspec": {
   "display_name": "Python 3 (ipykernel)",
   "language": "python",
   "name": "python3"
  },
  "language_info": {
   "codemirror_mode": {
    "name": "ipython",
    "version": 3
   },
   "file_extension": ".py",
   "mimetype": "text/x-python",
   "name": "python",
   "nbconvert_exporter": "python",
   "pygments_lexer": "ipython3",
   "version": "3.9.7"
  }
 },
 "nbformat": 4,
 "nbformat_minor": 5
}
